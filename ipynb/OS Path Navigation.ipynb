{
 "cells": [
  {
   "cell_type": "code",
   "execution_count": 1,
   "metadata": {},
   "outputs": [
    {
     "name": "stdout",
     "output_type": "stream",
     "text": [
      "Pretty printing has been turned OFF\n"
     ]
    }
   ],
   "source": [
    "\n",
    "import os.path as osp\n",
    "shared_folder = osp.abspath(osp.join('..', 'share')); assert osp.exists(shared_folder)\n",
    "import sys\n",
    "if shared_folder not in sys.path: sys.path.insert(1, shared_folder)\n",
    "from notebook_utils import NotebookUtilities\n",
    "nu = NotebookUtilities(\n",
    "    data_folder_path=osp.abspath(osp.join('..', 'data')),\n",
    "    saves_folder_path=osp.abspath(osp.join('..', 'saves'))\n",
    ")\n",
    "\n",
    "# Import needed libraries\n",
    "%pprint\n",
    "import pandas as pd\n",
    "import os, re\n",
    "import platform\n",
    "# import tensorflow\n",
    "sys.path.insert(1, osp.abspath('../py'))"
   ]
  },
  {
   "cell_type": "code",
   "execution_count": 5,
   "metadata": {},
   "outputs": [],
   "source": [
    "\n",
    "# Find any strauss-howe notepad session files\n",
    "black_list = ['$RECYCLE.BIN', '$Recycle.Bin', '.git']\n",
    "root_dir = r'C:\\Users\\daveb\\OneDrive\\Documents\\GitHub'\n",
    "file_names_list = []\n",
    "for sub_directory, directories_list, files_list in os.walk(root_dir):\n",
    "    if all(map(lambda x: x not in sub_directory, black_list)):\n",
    "        for file_name in files_list:\n",
    "            if (file_name.endswith('.xml')):\n",
    "                file_path = os.path.join(sub_directory, file_name)\n",
    "                with open(file_path, 'r', encoding=nu.encoding_type) as f:\n",
    "                    try:\n",
    "                        xml_str = f.read()\n",
    "                        if 'Strauss-Howe' in xml_str:\n",
    "                            print(file_path)\n",
    "                            !start %windir%\\explorer.exe \"{sub_directory}\"\n",
    "                            nu.open_path_in_notepad(file_path)\n",
    "                    except UnicodeDecodeError as e:\n",
    "                        continue"
   ]
  },
  {
   "cell_type": "code",
   "execution_count": 2,
   "metadata": {},
   "outputs": [
    {
     "data": {
      "text/plain": [
       "['nu.add_staticmethod_decorations', 'nu.anaconda_folder', 'nu.attempt_to_pickle', 'nu.bin_folder', 'nu.cache_folder', 'nu.check_4_doubles', 'nu.check_for_typos', 'nu.color_distance_from', 'nu.compute_similarity', 'nu.conjunctify_nouns', 'nu.convert_lora_model_to_gpt4all', 'nu.convert_strings_to_integers', 'nu.convert_to_data_frame', 'nu.count_ngrams', 'nu.count_swaps_to_perfect_order', 'nu.csv_exists', 'nu.data_csv_folder', 'nu.data_folder', 'nu.data_models_folder', 'nu.db_folder', 'nu.decoding_error', 'nu.decoding_errors_list', 'nu.decoding_type', 'nu.decoding_types_list', 'nu.delete_ipynb_checkpoint_folders', 'nu.download_file', 'nu.download_lora_model', 'nu.encoding_error', 'nu.encoding_errors_list', 'nu.encoding_type', 'nu.encoding_types_list', 'nu.ensure_module_installed', 'nu.facebook_aspect_ratio', 'nu.filepath_regex', 'nu.first_order_linear_scatterplot', 'nu.format_timedelta', 'nu.get_relative_position', 'nu.get_alphabet', 'nu.get_clusters_dictionary', 'nu.get_color_cycled_list', 'nu.get_color_cycler', 'nu.get_column_descriptions', 'nu.get_coordinates', 'nu.get_dir_tree', 'nu.get_euclidean_distance', 'nu.get_filename_from_url', 'nu.get_first_year_element', 'nu.get_flattened_dictionary', 'nu.get_function_file_path', 'nu.get_inf_nan_mask', 'nu.get_jitter_list', 'nu.get_minority_combinations', 'nu.get_ndistinct_subsequences', 'nu.get_nearest_neighbor', 'nu.get_notebook_functions_dictionary', 'nu.get_notebook_functions_set', 'nu.get_numeric_columns', 'nu.get_page_soup', 'nu.get_page_tables', 'nu.get_r_squared_value_latex', 'nu.get_random_subdictionary', 'nu.get_regexed_columns', 'nu.get_regexed_dataframe', 'nu.get_sequences_by_count', 'nu.get_shape', 'nu.get_spearman_rho_value_latex', 'nu.get_splits_list', 'nu.get_statistics', 'nu.get_style_column', 'nu.get_td_parent', 'nu.get_text_color', 'nu.get_top_level_folder_paths', 'nu.get_turbulence', 'nu.get_utility_file_functions', 'nu.get_wiki_infobox_data_frame', 'nu.get_wiki_tables', 'nu.ggjt_model_path', 'nu.github_folder', 'nu.gpt4all_model_path', 'nu.graphs_folder', 'nu.indices_folder', 'nu.list_dfs_in_folder', 'nu.load_csv', 'nu.load_data_frames', 'nu.load_object', 'nu.lora_path', 'nu.modalize_columns', 'nu.one_hot_encode', 'nu.open_path_in_notepad', 'nu.pickle_exists', 'nu.pip_command_str', 'nu.plot_grouped_box_and_whiskers', 'nu.plot_grouped_pie_chart', 'nu.plot_histogram', 'nu.plot_inauguration_age', 'nu.plot_line_with_error_bars', 'nu.plot_right_circles', 'nu.plot_sequence', 'nu.plot_sequences', 'nu.replace_consecutive_elements', 'nu.save_data_frames', 'nu.saves_csv_folder', 'nu.saves_folder', 'nu.saves_mp3_folder', 'nu.saves_pickle_folder', 'nu.saves_png_folder', 'nu.saves_text_folder', 'nu.saves_wav_folder', 'nu.scripts_folder', 'nu.show_dupl_fn_defs_search_string', 'nu.show_duplicated_util_fns_search_string', 'nu.show_time_statistics', 'nu.split_row_indices_list', 'nu.store_objects', 'nu.twitter_aspect_ratio', 'nu.txt_folder', 'nu.update_modules_list', 'nu.url_regex']"
      ]
     },
     "execution_count": 2,
     "metadata": {},
     "output_type": "execute_result"
    }
   ],
   "source": [
    "\n",
    "[f'nu.{fn}' for fn in dir(nu) if not fn.startswith('_')]"
   ]
  },
  {
   "cell_type": "code",
   "execution_count": 11,
   "metadata": {},
   "outputs": [],
   "source": [
    "\n",
    "# Standardize all the notebook utilities in the GitHub folder\n",
    "from itertools import combinations\n",
    "import subprocess\n",
    "\n",
    "paths_list = []\n",
    "for sub_directory, directories_list, files_list in os.walk(osp.abspath('../../')):\n",
    "    for file_name in files_list:\n",
    "        if file_name == 'notebook_utils.py':\n",
    "            file_path = osp.join(sub_directory, file_name)\n",
    "            paths_list.append(file_path)\n",
    "\n",
    "# Get all unique pairs (order doesn't matter)\n",
    "pairs = combinations(paths_list, 2)"
   ]
  },
  {
   "cell_type": "code",
   "execution_count": 13,
   "metadata": {},
   "outputs": [],
   "source": [
    "\n",
    "# Iterate through pairs and compare them\n",
    "comparator_path = r\"C:\\Program Files (x86)\\Compare It!\\wincmp3.exe\"\n",
    "for pair in pairs:\n",
    "    # print(pair)\n",
    "    subprocess.run([comparator_path, pair[0], pair[1]])"
   ]
  },
  {
   "cell_type": "code",
   "execution_count": 2,
   "metadata": {},
   "outputs": [
    {
     "name": "stdout",
     "output_type": "stream",
     "text": [
      "Search for *.ipynb; file masks in the C:\\Users\\daveb\\OneDrive\\Documents\\GitHub\\Strauss-Howe folder for this pattern:\n",
      "\\s+\"def (f)\\(\n",
      "Consolidate these duplicate definitions and add the refactored one to ../py/notebook_utils.py (and delete the definitions).\n"
     ]
    }
   ],
   "source": [
    "\n",
    "nu.show_dupl_fn_defs_search_string(util_path=None, github_folder=None)"
   ]
  },
  {
   "cell_type": "code",
   "execution_count": 3,
   "metadata": {},
   "outputs": [],
   "source": [
    "\n",
    "nu.show_duplicated_util_fns_search_string(util_path=None, github_folder=None)"
   ]
  },
  {
   "cell_type": "code",
   "execution_count": 5,
   "metadata": {},
   "outputs": [
    {
     "name": "stdout",
     "output_type": "stream",
     "text": [
      "..\\py\\notebook_utils.py\n"
     ]
    }
   ],
   "source": [
    "\n",
    "# def my_function(): pass\n",
    "file_path = nu.get_function_file_path(nu.get_function_file_path)\n",
    "print(file_path)\n",
    "\n",
    "# Open the path to the file in Notepad\n",
    "nu.open_path_in_notepad(r'~\\OneDrive\\Documents\\GitHub\\Strauss-Howe\\explorations\\../py\\spiral_utils.py')"
   ]
  },
  {
   "cell_type": "code",
   "execution_count": 6,
   "metadata": {},
   "outputs": [
    {
     "name": "stdout",
     "output_type": "stream",
     "text": [
      "June\n",
      "Mimi and I have been married for 13,643 days (1,949 weeks).\n",
      "Mimi and I have been married for 18 Kardashians.\n"
     ]
    }
   ],
   "source": [
    "\n",
    "import datetime\n",
    "\n",
    "marriage_date = datetime.date(year=1986, month=6, day=14)\n",
    "kardashian_date = datetime.date(year=2021, month=11, day=1)\n",
    "print(marriage_date.strftime('%B'))\n",
    "days = (datetime.date.today() - marriage_date).days\n",
    "kardashian_days = (datetime.date.today() - kardashian_date).days\n",
    "print('Mimi and I have been married for {:,} days ({:,} weeks).'.format(days, int(days/7)))\n",
    "print(f'Mimi and I have been married for {int(days/kardashian_days):,} Kardashians.')"
   ]
  },
  {
   "cell_type": "code",
   "execution_count": 1,
   "metadata": {},
   "outputs": [
    {
     "name": "stdout",
     "output_type": "stream",
     "text": [
      "Pretty printing has been turned OFF\n",
      "None\n",
      "['s.attempt_to_pickle', 's.csv_exists', 's.data_csv_folder', 's.data_folder', 's.encoding_type', 's.load_csv', 's.load_data_frames', 's.load_object', 's.pickle_exists', 's.save_data_frames', 's.saves_csv_folder', 's.saves_folder', 's.saves_pickle_folder', 's.store_objects']\n"
     ]
    },
    {
     "data": {
      "text/plain": [
       "['Config', 'In', 'Out', 'RandomForestClassifier', 'SequenceMatcher', 'Storage', '_', '__', '___', '__builtin__', '__builtins__', '__doc__', '__loader__', '__name__', '__nonzero__', '__package__', '__spec__', '_dh', '_i', '_i1', '_ih', '_ii', '_iii', '_oh', 'check_4_doubles', 'check_for_typos', 'conjunctify_nouns', 'copyfile', 'csv', 'encoding', 'exit', 'get_all_files_containing', 'get_classifier', 'get_data_structs_dataframe', 'get_datastructure_prediction', 'get_git_lfs_track_commands', 'get_importances', 'get_input_sample', 'get_ipython', 'get_module_version', 'get_modules_dataframe', 'get_notebook_path', 'get_specific_gitignore_files', 'get_struct_name', 'humanize_bytes', 'ipykernel', 'json', 'jupyter_config_dir', 'notebook_path', 'notebookapp', 'np', 'open', 'os', 'pd', 'pickle', 'preprocess_data', 'print_all_files_ending_starting_with', 'print_all_files_ending_with', 'print_all_files_starting_with', 'print_dir_tree', 'quit', 're', 'remove_empty_folders', 's', 'similar', 'subprocess', 'sys', 'time', 'urllib']"
      ]
     },
     "execution_count": 1,
     "metadata": {},
     "output_type": "execute_result"
    }
   ],
   "source": [
    "\n",
    "%run ../load_magic/storage.py\n",
    "%run ../load_magic/paths.py\n",
    "%run ../load_magic/lists.py\n",
    "%run ../load_magic/environment.py\n",
    "notebook_path = get_notebook_path()\n",
    "print(notebook_path)\n",
    "s = Storage()\n",
    "print(['s.{}'.format(fn) for fn in dir(s) if not fn.startswith('_')])\n",
    "dir()"
   ]
  },
  {
   "cell_type": "code",
   "execution_count": 7,
   "metadata": {},
   "outputs": [
    {
     "name": "stdout",
     "output_type": "stream",
     "text": [
      "C:\\Users\\daveb\\AppData\\Roaming\\.minecraft\\screenshots\\2023-01-05_19.01.42.png\n",
      "C:\\Users\\daveb\\AppData\\Roaming\\.minecraft\\screenshots\\2023-01-05_19.23.47.png\n",
      "C:\\Users\\daveb\\AppData\\Roaming\\.minecraft\\screenshots\\2023-01-05_19.41.18.png\n",
      "C:\\Users\\daveb\\AppData\\Roaming\\.minecraft\\screenshots\\2023-01-06_18.25.22.png\n",
      "C:\\Users\\daveb\\AppData\\Roaming\\.minecraft\\screenshots\\2023-01-06_19.38.27.png\n",
      "C:\\Users\\daveb\\AppData\\Roaming\\.minecraft\\screenshots\\2023-01-06_19.41.31.png\n",
      "C:\\Users\\daveb\\AppData\\Roaming\\PrismLauncher\\instances\\1.19\\.minecraft\\screenshots\\2023-01-07_11.38.41.png\n"
     ]
    }
   ],
   "source": [
    "\n",
    "# 2023-01-07_11.38.41.png\n",
    "for root_dir in ['C:\\\\', 'D:\\\\']:\n",
    "    print_all_files_ending_starting_with(\n",
    "        root_dir=root_dir,\n",
    "        ends_with='.png',\n",
    "        starts_with='2023'\n",
    "    )"
   ]
  },
  {
   "cell_type": "code",
   "execution_count": 2,
   "metadata": {},
   "outputs": [
    {
     "name": "stdout",
     "output_type": "stream",
     "text": [
      "C:\\Users\\daveb\\OneDrive\\Documents\\GitHub\\Strauss-Howe\\saves\\movies\\saeculum_fashionable\\plot_1518_saeculum_fashionable.png\n"
     ]
    }
   ],
   "source": [
    "\n",
    "black_list = ['.ipynb_checkpoints']\n",
    "print_all_files_ending_with(root_dir=['C:\\\\', 'D:\\\\'], ends_with='fashionable.png', black_list=black_list)"
   ]
  },
  {
   "cell_type": "code",
   "execution_count": 12,
   "metadata": {},
   "outputs": [
    {
     "name": "stdout",
     "output_type": "stream",
     "text": [
      "C:\\Program Files\\WindowsApps\\AdvancedMicroDevicesInc-2.AMDRadeonSoftware_10.21.30024.0_x64__0a9344xs7nr4m\\radeonsoftware\\ffmpeg\n",
      "C:\\ProgramData\\Anaconda3\\Lib\\site-packages\\imageio_ffmpeg\n",
      "C:\\ProgramData\\Anaconda3\\Lib\\site-packages\\imageio_ffmpeg-0.4.7.dist-info\n",
      "C:\\Users\\daveb\\OneDrive\\Documents\\GitHub\\jekyll\\images\\introduction-to-ffmpeg\n",
      "C:\\Users\\daveb\\OneDrive\\Documents\\GitHub\\space-track-scenario\\ArcGIS_Pro\\arcgispro-py3\\Lib\\site-packages\\ffmpeg\n",
      "C:\\Users\\daveb\\OneDrive\\Documents\\GitHub\\space-track-scenario\\ArcGIS_Pro\\arcgispro-py3\\Lib\\site-packages\\ffmpeg_python-0.2.0.dist-info\n",
      "D:\\Geek Squad Data Backup\\HDD\\Documents\\GitHub\\jekyll\\images\\introduction-to-ffmpeg\n",
      "D:\\Geek Squad Data Backup\\HDD\\Documents\\GitHub\\space-track-scenario\\ArcGIS_Pro\\arcgispro-py3\\Lib\\site-packages\\ffmpeg\n",
      "D:\\Geek Squad Data Backup\\HDD\\Documents\\GitHub\\space-track-scenario\\ArcGIS_Pro\\arcgispro-py3\\Lib\\site-packages\\ffmpeg_python-0.2.0.dist-info\n"
     ]
    }
   ],
   "source": [
    "\n",
    "for root_dir in ['C:\\\\', 'D:\\\\']:\n",
    "    for sub_directory, directories_list, files_list in os.walk(root_dir):\n",
    "        if 'ffmpeg' in sub_directory.split(os.sep)[-1].lower():\n",
    "            print(sub_directory)\n",
    "            !start %windir%\\explorer.exe \"{sub_directory}\""
   ]
  },
  {
   "cell_type": "code",
   "execution_count": 9,
   "metadata": {},
   "outputs": [
    {
     "name": "stdout",
     "output_type": "stream",
     "text": [
      "C:\\Program Files\\Just Great Software\\RegexBuddy 4\\RegexBuddy4.rbl\n",
      "C:\\Users\\daveb\\OneDrive\\Documents\\GitHub\\notebooks\\saves\\rbl\\dbabbitt.rbl\n",
      "C:\\Users\\daveb\\OneDrive\\Documents\\GitHub\\notebooks\\saves\\rbl\\RegexBuddy4.rbl\n",
      "C:\\Users\\daveb\\OneDrive\\Documents\\GitHub\\notebooks_old\\saves\\rbl\\dbabbitt.rbl\n",
      "C:\\Users\\daveb\\OneDrive\\Documents\\GitHub\\notebooks_old\\saves\\rbl\\RegexBuddy4.rbl\n"
     ]
    }
   ],
   "source": [
    "\n",
    "print_all_files_ending_with(\n",
    "    root_dir='C:\\\\',\n",
    "    ends_with='.rbl',\n",
    ")"
   ]
  },
  {
   "cell_type": "code",
   "execution_count": null,
   "metadata": {},
   "outputs": [],
   "source": []
  },
  {
   "cell_type": "code",
   "execution_count": 4,
   "metadata": {},
   "outputs": [
    {
     "name": "stdout",
     "output_type": "stream",
     "text": [
      "['DirEntry', '_AddedDllDirectory', 'add_dll_directory', 'chdir', 'curdir', 'listdir', 'makedirs', 'mkdir', 'pardir', 'removedirs', 'rmdir', 'scandir', 'supports_dir_fd']\n"
     ]
    },
    {
     "data": {
      "text/plain": [
       "['archetypes_df', 'butler_digraph', 'calvinists_df', 'ccw_history_radius_dict', 'ccw_history_theta_dict', 'ccw_history_year_dict', 'colors_distance_df', 'coordinates_dict', 'cw_history_radius_dict', 'cw_history_theta_dict', 'cw_history_year_dict', 'dresses_file_dict', 'dresses_list', 'eras_df', 'first_date_dict', 'generations_df', 'history_radius_dict', 'history_year_dict', 'patriline_df', 'presbyterians_df', 'saecula_df', 'saeculums_df', 'saeculum_cmap_dict', 'second_date_dict', 'sienna_expert_poll2010_df', 'thomas_bobbet2edward_bobet_coords_list', 'turnings_df', 'turning_numbers_df', 'us_presidents_df']"
      ]
     },
     "execution_count": 4,
     "metadata": {},
     "output_type": "execute_result"
    }
   ],
   "source": [
    "\n",
    "print([fn for fn in dir(os) if 'dir' in fn.lower()])\n",
    "[fn.split('.')[0] for fn in os.listdir(s.saves_pickle_folder)]"
   ]
  },
  {
   "cell_type": "code",
   "execution_count": 12,
   "metadata": {},
   "outputs": [
    {
     "data": {
      "text/plain": [
       "{'crisis_year_end', 'turning_year_end', 'awakening_year_begin', 'awakening_year_end', 'crisis_begin_year', 'birth_year_begin', 'birth_year_end', 'awakening_begin_year', 'crisis_year_begin', 'crisis_end_year', 'awakening_end_year', 'turning_year_begin'}"
      ]
     },
     "execution_count": 12,
     "metadata": {},
     "output_type": "execute_result"
    }
   ],
   "source": [
    "\n",
    "columns_set = set()\n",
    "for pickle_name in [fn.split('.')[0] for fn in os.listdir(s.saves_pickle_folder)]:\n",
    "    if pickle_name.endswith('_df'):\n",
    "        df = s.load_object(pickle_name)\n",
    "        columns_set.update(df.columns[list(map(lambda x: ('year' in x) and (('begin' in x) or ('end' in x)), df.columns))])\n",
    "columns_set"
   ]
  },
  {
   "cell_type": "code",
   "execution_count": 1,
   "metadata": {},
   "outputs": [
    {
     "data": {
      "text/plain": [
       "'AMD64 Family 25 Model 80 Stepping 0, AuthenticAMD'"
      ]
     },
     "execution_count": 1,
     "metadata": {},
     "output_type": "execute_result"
    }
   ],
   "source": [
    "\n",
    "# 'Intel64 Family 6 Model 60 Stepping 3, GenuineIntel'\n",
    "platform.processor()"
   ]
  },
  {
   "cell_type": "code",
   "execution_count": 2,
   "metadata": {},
   "outputs": [
    {
     "name": "stdout",
     "output_type": "stream",
     "text": [
      "__compiler_version__: MSVC 191627032\n",
      "__git_version__: v2.0.0-rc2-26-g64c3d382ca\n",
      "__version__: 2.0.0\n"
     ]
    }
   ],
   "source": [
    "\n",
    "get_module_version(tensorflow)"
   ]
  },
  {
   "cell_type": "code",
   "execution_count": null,
   "metadata": {},
   "outputs": [],
   "source": [
    "\n",
    "req_str = 'Home Insurance  BINDER'\n",
    "'_'.join(re.split(r'[ \\\\\\/:\\*\\?\"><\\|]+', req_str, 0))"
   ]
  },
  {
   "cell_type": "code",
   "execution_count": null,
   "metadata": {},
   "outputs": [],
   "source": [
    "\n",
    "print_all_files_ending_starting_with(root_dir=['C:\\\\', 'D:\\\\'], ends_with='.py', starts_with='user-config')"
   ]
  },
  {
   "cell_type": "code",
   "execution_count": null,
   "metadata": {},
   "outputs": [],
   "source": [
    "\n",
    "for root_dir in ['C:\\\\', 'D:\\\\']:\n",
    "    for sub_directory, directories_list, files_list in os.walk(root_dir):\n",
    "        for file_name in files_list:\n",
    "            if 'ffmpeg' in file_name.lower():\n",
    "                file_path = osp.join(sub_directory, file_name)\n",
    "                print(file_path)"
   ]
  },
  {
   "cell_type": "code",
   "execution_count": null,
   "metadata": {},
   "outputs": [],
   "source": [
    "\n",
    "for root_dir in ['C:\\\\', 'D:\\\\']:\n",
    "    for sub_directory, directories_list, files_list in os.walk(root_dir):\n",
    "        if 'kml' in sub_directory.split(os.sep)[-1].lower():\n",
    "            print(sub_directory)\n",
    "            !start %windir%\\explorer.exe \"{sub_directory}\"\n",
    "        else:\n",
    "            for file_name in files_list:\n",
    "                if 'kml' in file_name.lower():\n",
    "                    file_path = osp.join(sub_directory, file_name)\n",
    "                    print(file_path)"
   ]
  },
  {
   "cell_type": "code",
   "execution_count": null,
   "metadata": {},
   "outputs": [],
   "source": [
    "\n",
    "get_specific_gitignore_files('notebooks', repository_dir=r'C:\\Users\\dev\\Documents\\repositories')"
   ]
  },
  {
   "cell_type": "code",
   "execution_count": null,
   "metadata": {},
   "outputs": [],
   "source": []
  },
  {
   "cell_type": "code",
   "execution_count": null,
   "metadata": {},
   "outputs": [],
   "source": [
    "\n",
    "print_all_files_starting_with(root_dir=['C:\\\\', 'D:\\\\'], starts_with='jupyter_notebook_config')"
   ]
  },
  {
   "cell_type": "code",
   "execution_count": null,
   "metadata": {},
   "outputs": [],
   "source": [
    "\n",
    "print_all_files_ending_with(root_dir=r'C:\\Users\\dev\\Documents\\repositories', ends_with='Navigation.ipynb')"
   ]
  },
  {
   "cell_type": "code",
   "execution_count": null,
   "metadata": {},
   "outputs": [],
   "source": [
    "\n",
    "magic_dict_list = magic_dict['test.py']\n",
    "print(len(magic_dict_list))\n",
    "subprocess.run([comparator_path, osp.abspath(magic_dict_list[0]), osp.abspath(magic_dict_list[1])])"
   ]
  },
  {
   "cell_type": "code",
   "execution_count": null,
   "metadata": {},
   "outputs": [],
   "source": [
    "\n",
    "remove_empty_folders(folder_path=r'C:\\\\')"
   ]
  },
  {
   "cell_type": "code",
   "execution_count": null,
   "metadata": {},
   "outputs": [],
   "source": [
    "\n",
    "print_all_files_ending_with(root_dir=r'D:\\\\', ends_with='.box')"
   ]
  },
  {
   "cell_type": "code",
   "execution_count": null,
   "metadata": {},
   "outputs": [],
   "source": [
    "\n",
    "print_all_files_ending_starting_with(root_dir=['C:\\\\', 'D:\\\\'], ends_with='.yaml', starts_with='common')"
   ]
  },
  {
   "cell_type": "code",
   "execution_count": null,
   "metadata": {},
   "outputs": [],
   "source": [
    "\n",
    "for key, value in sys.modules.items():\n",
    "    if 'xdist' in key.lower():\n",
    "        #print('{}: {}'.format(key, value))\n",
    "        print('{}'.format(key))"
   ]
  },
  {
   "cell_type": "code",
   "execution_count": null,
   "metadata": {},
   "outputs": [],
   "source": [
    "\n",
    "for root_dir in ['C:\\\\', 'D:\\\\']:\n",
    "    for sub_directory, directories_list, files_list in os.walk(root_dir):\n",
    "        for file_name in files_list:\n",
    "            if file_name == 'git.exe':\n",
    "                file_path = osp.join(sub_directory, file_name)\n",
    "                print('Write-Host \"#################################################################################\"')\n",
    "                print('Write-Host \"    Configuring {}\"'.format(file_path))\n",
    "                print('Write-Host \"#################################################################################\"')\n",
    "                print('cd \"{}\"'.format(sub_directory))\n",
    "                print('git.exe config --global core.autocrlf input')"
   ]
  },
  {
   "cell_type": "code",
   "execution_count": null,
   "metadata": {},
   "outputs": [],
   "source": [
    "\n",
    "print('\\n'.join(sorted('''**/.ipynb_checkpoints/\n",
    "*.ipynb_checkpoints\n",
    "*/.ipynb_checkpoints\n",
    ".ipynb_checkpoints\n",
    ".ipynb_checkpoints*\n",
    ".ipynb_checkpoints/\n",
    ".ipynb_checkpoints/*\n",
    "/.ipynb_checkpoints'''.split('\\n'), key=lambda x: x[::-1])))"
   ]
  },
  {
   "cell_type": "code",
   "execution_count": null,
   "metadata": {},
   "outputs": [],
   "source": []
  }
 ],
 "metadata": {
  "kernelspec": {
   "display_name": "GPT Stuff (Python 3.10.10)",
   "language": "python",
   "name": "gs_env"
  },
  "language_info": {
   "codemirror_mode": {
    "name": "ipython",
    "version": 3
   },
   "file_extension": ".py",
   "mimetype": "text/x-python",
   "name": "python",
   "nbconvert_exporter": "python",
   "pygments_lexer": "ipython3",
   "version": "3.10.10"
  }
 },
 "nbformat": 4,
 "nbformat_minor": 4
}
