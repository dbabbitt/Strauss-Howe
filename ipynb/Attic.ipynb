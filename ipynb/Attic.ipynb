{
 "cells": [
  {
   "cell_type": "code",
   "execution_count": null,
   "id": "027ccfd5-1897-4663-ba31-9547fb4c15a7",
   "metadata": {},
   "outputs": [],
   "source": []
  },
  {
   "cell_type": "code",
   "execution_count": 84,
   "id": "a94b779b-0aba-4f67-93ff-af1451acb206",
   "metadata": {},
   "outputs": [
    {
     "data": {
      "text/plain": [
       "['year_reign_begin', 'year_reign_end', 'Reigns']"
      ]
     },
     "execution_count": 84,
     "metadata": {},
     "output_type": "execute_result"
    }
   ],
   "source": [
    "\n",
    "[cn for cn in english_and_british_monarchs_df.columns if 'reign' in cn.lower()]"
   ]
  },
  {
   "cell_type": "code",
   "execution_count": 10,
   "id": "de19504c-b0c9-4bc9-b5b6-6c39fcff7e24",
   "metadata": {},
   "outputs": [
    {
     "name": "stdout",
     "output_type": "stream",
     "text": [
      "{21: 'Junior_king', 0: 'Reigns', 26: 'Co-monarch', 27: 'Acclamation', 6: 'Spouses', 9: 'Father', 11: 'Coronation', 29: 'Preceded_by', 1: 'Predecessors', 35: 'Occupation'}\n",
      "{21: 'Senior_king', 0: 'Religion', 26: 'Monarch', 27: 'Occupation', 6: 'House', 9: 'Mother', 11: 'Citation', 29: 'Amended_by', 1: 'Successors', 35: 'Education'}\n"
     ]
    }
   ],
   "source": [
    "\n",
    "items_dict = check_4_doubles(infobox_df.columns.tolist()).sort_values('max_similarity', ascending=False).head(10).to_dict()\n",
    "print(items_dict['first_item'])\n",
    "print(items_dict['second_item'])"
   ]
  },
  {
   "cell_type": "code",
   "execution_count": null,
   "id": "17c7f87f-dff9-48ee-abd1-8af5c45cdb0c",
   "metadata": {},
   "outputs": [],
   "source": [
    "\n",
    "# Convert the DataFrame to a list of row dictionaries\n",
    "rows_list = []\n",
    "for dictionary in df.to_dict('records'):\n",
    "    for key, value in dictionary.items():\n",
    "        row_dict = {}\n",
    "        value = re.sub(r'[ \\u2009\\xa0]+', ' ', str(value).strip())\n",
    "        key = re.sub(r'[ \\u2009\\xa0]+', '_', key.strip())\n",
    "        if key.startswith('Issue'): key = 'Issue'\n",
    "        elif key.startswith('Predece'): key = 'Predecessors'\n",
    "        elif key.startswith('Succe'): key = 'Successors'\n",
    "        elif key.startswith('Spouse'): key = 'Spouses'\n",
    "        elif key.startswith('Regen'): key = 'Regency'\n",
    "        elif key.startswith('Reign'): key = 'Reigns'\n",
    "        elif key.startswith('Alma'): key = 'Alma_Mater'\n",
    "        elif key.startswith('Repealed'): key = 'Repealed_By'\n",
    "        elif key.startswith('Years'): key = 'Years_of_Active_Service'\n",
    "        elif key.startswith('Commands'): key = 'Commands_Held'\n",
    "        elif key.startswith('Service'): key = 'Service_Branch'\n",
    "        row_dict[key] = value\n",
    "        rows_list.append(row_dict)\n",
    "df = pd.DataFrame(rows_list)"
   ]
  },
  {
   "cell_type": "code",
   "execution_count": null,
   "id": "295c15e5-bfb6-48c8-9aa9-b408ee9b0d56",
   "metadata": {},
   "outputs": [],
   "source": [
    "\n",
    "fn = lambda x: 'nan' == x\n",
    "srs = infobox_df.applymap(fn, na_action='ignore').sum()\n",
    "columns_list = srs[srs>0].index.tolist()\n",
    "if columns_list:\n",
    "    df = infobox_df[columns_list].sample(min(4, infobox_df.shape[0])).dropna(axis='columns', how='all').T\n",
    "    display(df)\n",
    "    print(df.to_dict())"
   ]
  }
 ],
 "metadata": {
  "kernelspec": {
   "display_name": "Python 3 (ipykernel)",
   "language": "python",
   "name": "python3"
  },
  "language_info": {
   "codemirror_mode": {
    "name": "ipython",
    "version": 3
   },
   "file_extension": ".py",
   "mimetype": "text/x-python",
   "name": "python",
   "nbconvert_exporter": "python",
   "pygments_lexer": "ipython3",
   "version": "3.9.16"
  }
 },
 "nbformat": 4,
 "nbformat_minor": 5
}
