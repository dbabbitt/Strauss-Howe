{
 "cells": [
  {
   "cell_type": "code",
   "execution_count": 1,
   "metadata": {},
   "outputs": [
    {
     "name": "stdout",
     "output_type": "stream",
     "text": [
      "Pretty printing has been turned OFF\n"
     ]
    }
   ],
   "source": [
    "\n",
    "%pprint"
   ]
  },
  {
   "cell_type": "code",
   "execution_count": 2,
   "metadata": {},
   "outputs": [],
   "source": [
    "\n",
    "import sys\n",
    "\n",
    "# Insert at 1, 0 is the script path (or '' in REPL)\n",
    "sys.path.insert(1, '../py')\n",
    "\n",
    "from spiral_utils import StraussHoweUtilities\n",
    "from storage import Storage\n",
    "import pandas as pd\n",
    "\n",
    "s = Storage()\n",
    "shu = StraussHoweUtilities(s=s)"
   ]
  },
  {
   "cell_type": "code",
   "execution_count": 3,
   "metadata": {},
   "outputs": [
    {
     "name": "stdout",
     "output_type": "stream",
     "text": [
      "None\n",
      "['s.attempt_to_pickle', 's.csv_exists', 's.data_csv_folder', 's.data_folder', 's.encoding_type', 's.load_csv', 's.load_dataframes', 's.load_object', 's.pickle_exists', 's.save_dataframes', 's.saves_csv_folder', 's.saves_folder', 's.saves_pickle_folder', 's.store_objects']\n",
      "['shu.add_fashion_image', 'shu.add_fashion_saeculum_image', 'shu.add_guide', 'shu.add_saeculum_image', 'shu.add_spiral_labels', 'shu.archetypes_df', 'shu.archimedes_spiral', 'shu.babbitt_min_year', 'shu.babbitt_random_year', 'shu.babbitt_years_tuple', 'shu.bare_movie_folder', 'shu.bernoulli_spiral', 'shu.black_tuple', 'shu.colors_dict_to_dataframe', 'shu.conjunctify_nouns', 'shu.convert_age_to_y', 'shu.convert_years_to_x', 'shu.create_xy_list', 'shu.cycles_image', 'shu.diagonal_movie_folder', 'shu.display_test_colors', 'shu.distance_between', 'shu.distance_from_black', 'shu.distance_from_blue', 'shu.distance_from_cyan', 'shu.distance_from_green', 'shu.distance_from_kbcg_face', 'shu.distance_from_krmb_face', 'shu.distance_from_kryg_face', 'shu.distance_from_magenta', 'shu.distance_from_red', 'shu.distance_from_wcbm_face', 'shu.distance_from_wcgy_face', 'shu.distance_from_white', 'shu.distance_from_wyrm_face', 'shu.distance_from_yellow', 'shu.draw_hl', 'shu.draw_life_line', 'shu.draw_spiral', 'shu.dresses_file_dict', 'shu.eras_df', 'shu.exists', 'shu.fermat_spiral', 'shu.filepath_regex', 'shu.fit_year_curve', 'shu.full_corner_list', 'shu.generations_df', 'shu.get_column_descriptions', 'shu.get_distance_dataframe', 'shu.get_event_story', 'shu.get_face_dictionary', 'shu.get_face_set_list', 'shu.get_generation_name', 'shu.get_hsv_dict', 'shu.get_image_array', 'shu.get_max_rsquared_adj', 'shu.get_one_arc', 'shu.get_one_stopped_arc', 'shu.get_page_tables', 'shu.get_row_label', 'shu.get_shortest_distance', 'shu.get_zoom_in', 'shu.history_radius_dict', 'shu.history_year_dict', 'shu.jpg_dir', 'shu.label_arc', 'shu.label_life_line', 'shu.make_a_movie', 'shu.make_transparent', 'shu.min_year', 'shu.movie_folder', 'shu.now_year', 'shu.patriline_df', 'shu.plot_colortable', 'shu.plot_patriarch', 'shu.png_folder', 'shu.polar_to_cartesian', 'shu.print_turnings', 'shu.s', 'shu.saecula_df', 'shu.saeculum_cmap_dict', 'shu.saeculum_dir', 'shu.saeculum_fashionable_movie_folder', 'shu.saeculum_movie_folder', 'shu.save_stopped_babbitt_plot', 'shu.show_babbitt_plot', 'shu.show_color_proximity', 'shu.show_face_proximity', 'shu.show_generation_blurb', 'shu.show_saeculum_image', 'shu.show_stopped_babbitt_plot', 'shu.show_turning_image', 'shu.show_year_image', 'shu.spirals', 'shu.translate_upper_left_to_center', 'shu.turning_numbers_df', 'shu.turnings_df', 'shu.url_regex', 'shu.us_presidents_df', 'shu.white_tuple', 'shu.zoom_image']\n"
     ]
    },
    {
     "data": {
      "text/plain": [
       "['Config', 'In', 'Out', 'RandomForestClassifier', 'Storage', 'StraussHoweUtilities', '_', '__', '___', '__builtin__', '__builtins__', '__doc__', '__loader__', '__name__', '__nonzero__', '__package__', '__spec__', '_dh', '_i', '_i1', '_i2', '_i3', '_ih', '_ii', '_iii', '_oh', 'exit', 'get_all_files_containing', 'get_classifier', 'get_data_structs_dataframe', 'get_datastructure_prediction', 'get_dir_tree', 'get_importances', 'get_input_sample', 'get_ipython', 'get_module_version', 'get_modules_dataframe', 'get_notebook_path', 'get_struct_name', 'ipykernel', 'json', 'jupyter_config_dir', 'notebook_path', 'notebookapp', 'np', 'os', 'pd', 'preprocess_data', 'quit', 're', 's', 'shu', 'subprocess', 'sys', 'urllib']"
      ]
     },
     "execution_count": 3,
     "metadata": {},
     "output_type": "execute_result"
    }
   ],
   "source": [
    "\n",
    "%run ../load_magic/environment.py\n",
    "notebook_path = get_notebook_path()\n",
    "print(notebook_path)\n",
    "print(['s.{}'.format(fn) for fn in dir(s) if not fn.startswith('_')])\n",
    "print(['shu.{}'.format(fn) for fn in dir(shu) if not fn.startswith('_')])\n",
    "dir()"
   ]
  },
  {
   "cell_type": "code",
   "execution_count": 99,
   "metadata": {},
   "outputs": [
    {
     "name": "stdout",
     "output_type": "stream",
     "text": [
      "1920 1929\n",
      "1820 1829\n",
      "1720 1729\n"
     ]
    }
   ],
   "source": [
    "\n",
    "for i in range(1900, 1600, -100):\n",
    "    print(i+20, i+29)\n",
    "    mask_series = \n",
    "for row_index, row_series in saecula_df[mask_series].iterrows():\n",
    "    awakening_name = row_series.awakening_name\n",
    "    awakening_begin_year = int(row_series.awakening_begin_year)\n",
    "    awakening_end_year = int(row_series.awakening_end_year)"
   ]
  },
  {
   "cell_type": "code",
   "execution_count": null,
   "metadata": {},
   "outputs": [],
   "source": [
    "\n",
    "shu.conjunctify_nouns(shu.turning_numbers_df.social_motivator.unique())"
   ]
  },
  {
   "cell_type": "code",
   "execution_count": null,
   "metadata": {},
   "outputs": [],
   "source": [
    "\n",
    "groupby = shu.turning_numbers_df.groupby('social_motivator')\n",
    "print(['groupby.{}'.format(fn) for fn in dir(groupby) if not fn.startswith('_')])"
   ]
  },
  {
   "cell_type": "code",
   "execution_count": null,
   "metadata": {},
   "outputs": [],
   "source": [
    "\n",
    "shu.turning_numbers_df.T"
   ]
  },
  {
   "cell_type": "code",
   "execution_count": null,
   "metadata": {},
   "outputs": [],
   "source": [
    "\n",
    "column_name = 'social_motivator'\n",
    "for fn in [fn for fn in dir(shu) if fn.endswith('_df')]:\n",
    "    df = eval('shu.{}'.format(fn))\n",
    "    if type(df) == pd.DataFrame:\n",
    "        print()\n",
    "        print(fn, df.columns.tolist())\n",
    "        print(df)"
   ]
  },
  {
   "cell_type": "code",
   "execution_count": null,
   "metadata": {},
   "outputs": [],
   "source": [
    "\n",
    "layer_dict = {}\n",
    "layer_dict['Great Britain'] = (shu.patriline_df.birth_latitude > -5.0)\n",
    "layer_dict['New England'] = (shu.patriline_df.birth_latitude <= -5.0) & (shu.patriline_df.birth_latitude > -80.0)\n",
    "layer_dict['Cincinnatti'] = (shu.patriline_df.birth_latitude <= -80.0) & (shu.patriline_df.birth_latitude > -85.0)\n",
    "layer_dict['Arizona'] = (shu.patriline_df.birth_latitude <= -85.0)"
   ]
  },
  {
   "cell_type": "code",
   "execution_count": null,
   "metadata": {},
   "outputs": [],
   "source": [
    "\n",
    "placemark_str = '''\n",
    "      <Placemark>\n",
    "        <name>{}</name>\n",
    "        <description><![CDATA[{}]]></description>\n",
    "        <styleUrl>#icon-{}</styleUrl>\n",
    "        <Point>\n",
    "          <coordinates>{}</coordinates>\n",
    "        </Point>\n",
    "      </Placemark>'''"
   ]
  },
  {
   "cell_type": "code",
   "execution_count": null,
   "metadata": {},
   "outputs": [],
   "source": [
    "\n",
    "line_style_str = '''\n",
    "    <Style id=\"blue-line-normal\">\n",
    "        <LineStyle>\n",
    "            <color>ffff6712</color>\n",
    "            <width>5</width>\n",
    "        </LineStyle>\n",
    "    </Style>\n",
    "    <Style id=\"blue-line-highlight\">\n",
    "        <LineStyle>\n",
    "            <color>ffff6712</color>\n",
    "            <width>7.5</width>\n",
    "        </LineStyle>\n",
    "    </Style>\n",
    "    <StyleMap id=\"blue-line\">\n",
    "        <Pair>\n",
    "            <key>normal</key>\n",
    "            <styleUrl>#blue-line-normal</styleUrl>\n",
    "        </Pair>\n",
    "        <Pair>\n",
    "            <key>highlight</key>\n",
    "            <styleUrl>#blue-line-highlight</styleUrl>\n",
    "        </Pair>\n",
    "    </StyleMap>'''"
   ]
  },
  {
   "cell_type": "code",
   "execution_count": null,
   "metadata": {},
   "outputs": [],
   "source": [
    "\n",
    "style_str = ''\n",
    "for i, suffix in enumerate(['normal', 'highlight']):\n",
    "    style_str += '''\n",
    "    <Style id=\"icon-{{}}-{}\">\n",
    "        <IconStyle>\n",
    "            <color>ff{{}}</color>\n",
    "            <scale>{}</scale>\n",
    "            <Icon>\n",
    "                <href>http://maps.google.com/mapfiles/kml/shapes/man.png</href>\n",
    "            </Icon>\n",
    "        </IconStyle>\n",
    "        <LabelStyle>\n",
    "            <scale>{}</scale>\n",
    "        </LabelStyle>\n",
    "        <BalloonStyle>\n",
    "        </BalloonStyle>\n",
    "        <ListStyle>\n",
    "        </ListStyle>\n",
    "    </Style>'''.format(suffix, i*0.2+1.2, i*0.1+1)"
   ]
  },
  {
   "cell_type": "code",
   "execution_count": null,
   "metadata": {},
   "outputs": [],
   "source": [
    "\n",
    "style_str += '''\n",
    "    <StyleMap id=\"icon-{}\">\n",
    "      <Pair>\n",
    "        <key>normal</key>\n",
    "        <styleUrl>#icon-{}-normal</styleUrl>\n",
    "      </Pair>\n",
    "      <Pair>\n",
    "        <key>highlight</key>\n",
    "        <styleUrl>#icon-{}-highlight</styleUrl>\n",
    "      </Pair>\n",
    "    </StyleMap>'''"
   ]
  },
  {
   "cell_type": "code",
   "execution_count": null,
   "metadata": {},
   "outputs": [],
   "source": [
    "\n",
    "namespace_list = ['xmlns=\"http://www.opengis.net/kml/2.2\"', 'xmlns:gx=\"http://www.google.com/kml/ext/2.2\"',\n",
    "                  'xmlns:kml=\"http://www.opengis.net/kml/2.2\"', 'xmlns:atom=\"http://www.w3.org/2005/Atom\"']\n",
    "xml_str = '''<?xml version=\"1.0\" encoding=\"UTF-8\"?>\n",
    "<kml {}>\n",
    "<Document>\n",
    "    <name>Babbitt Patriline Birth Locations</name>'''.format(' '.join(namespace_list))"
   ]
  },
  {
   "cell_type": "code",
   "execution_count": null,
   "metadata": {},
   "outputs": [],
   "source": [
    "\n",
    "re = spiral_utils.re\n",
    "webcolors = spiral_utils.webcolors\n",
    "\n",
    "mask_series = ~shu.patriline_df.birth_longitude.isnull() & ~shu.patriline_df.birth_latitude.isnull()\n",
    "for patriarch_name, row_series in shu.patriline_df[mask_series].sort_values('year_of_birth').iterrows():\n",
    "    word_list = [w for w in re.split(r'[^A-Za-z]+', patriarch_name, 0) if w != '']\n",
    "    patriarch_str = '-'.join(word_list)\n",
    "    css4_color = webcolors.css3_names_to_hex[row_series.css4_color][1:]\n",
    "    xml_str += style_str.format(patriarch_str, css4_color, patriarch_str,\n",
    "                                css4_color, patriarch_str, patriarch_str, patriarch_str)"
   ]
  },
  {
   "cell_type": "code",
   "execution_count": null,
   "metadata": {},
   "outputs": [],
   "source": [
    "\n",
    "xml_str += line_style_str"
   ]
  },
  {
   "cell_type": "code",
   "execution_count": null,
   "metadata": {},
   "outputs": [],
   "source": [
    "\n",
    "for layer_name, mask_series in layer_dict.items():\n",
    "    folder_str = '''\n",
    "    <Folder>\n",
    "      <name>{}</name>{{}}\n",
    "    </Folder>'''.format(layer_name)\n",
    "    #shu.patriline_df[mask_series][columns_list].sort_values('year_of_birth')\n",
    "    kml_str = ''\n",
    "    for patriarch_name, row_series in shu.patriline_df[mask_series].sort_values('year_of_birth').iterrows():\n",
    "        birth_coordinates = row_series.birth_coordinates\n",
    "        word_list = [w for w in re.split(r'[^A-Za-z]+', patriarch_name, 0) if w != '']\n",
    "        patriarch_str = '-'.join(word_list)\n",
    "        descr_str = re.sub('  +', ': ', row_series.to_string())\n",
    "        descr_str = re.sub(r'\\n', '<br>', descr_str)\n",
    "        kml_str += placemark_str.format(patriarch_name, descr_str, patriarch_str, birth_coordinates)\n",
    "    xml_str += folder_str.format(kml_str)"
   ]
  },
  {
   "cell_type": "code",
   "execution_count": null,
   "metadata": {},
   "outputs": [],
   "source": [
    "\n",
    "directions_str = ''\n",
    "coordinates_dict = s.load_object('coordinates_dict')\n",
    "for name, coordinates in coordinates_dict.items():\n",
    "    if name.startswith('Directions from '):\n",
    "        directions_str += '''\n",
    "        <Placemark>\n",
    "            <name>{}</name>\n",
    "            <styleUrl>#blue-line</styleUrl>\n",
    "            <LineString>\n",
    "                <tessellate>1</tessellate>\n",
    "                <coordinates>\n",
    "                    {}\n",
    "                </coordinates>\n",
    "            </LineString>\n",
    "        </Placemark>'''.format(name, coordinates)\n",
    "directions_str = '''\n",
    "    <Folder>\n",
    "        <name>Directions</name>{}\n",
    "    </Folder>'''.format(directions_str)\n",
    "xml_str += directions_str"
   ]
  },
  {
   "cell_type": "code",
   "execution_count": null,
   "metadata": {},
   "outputs": [],
   "source": [
    "\n",
    "xml_str += '''\n",
    "  </Document>\n",
    "</kml>'''"
   ]
  },
  {
   "cell_type": "code",
   "execution_count": null,
   "metadata": {},
   "outputs": [],
   "source": [
    "\n",
    "file_path = os.path.join(s.saves_folder, 'kml', 'Babbitt Patriline Birth Locations.kml')\n",
    "with open(file_path, 'w') as f:\n",
    "    print(xml_str, file=f)"
   ]
  },
  {
   "cell_type": "code",
   "execution_count": null,
   "metadata": {},
   "outputs": [],
   "source": []
  },
  {
   "cell_type": "code",
   "execution_count": null,
   "metadata": {},
   "outputs": [],
   "source": [
    "\n",
    "shu.patriline_df['birth_coordinates'] = pd.np.nan\n",
    "back_reference = '|'.join([re.sub(r'[]\\[{}()*+?.\\\\^$|]', r'\\\\\\g<0>', x) for x in shu.patriline_df.index.tolist()])\n",
    "directions_regex = re.compile('Directions from ({}) to ({})'.format(back_reference, back_reference))\n",
    "for coordinates_title, coordinates_str in coordinates_dict.items():\n",
    "    match_obj = directions_regex.search(coordinates_title)\n",
    "    if match_obj:\n",
    "        coordinates_list = coordinates_str.split(' ')\n",
    "        \n",
    "        from_patriarch = match_obj.group(1)\n",
    "        from_coordinate = coordinates_list[0]\n",
    "        shu.patriline_df.loc[from_patriarch, 'birth_coordinates'] = from_coordinate\n",
    "        \n",
    "        to_patriarch = match_obj.group(2)\n",
    "        to_coordinate = coordinates_list[-1]\n",
    "        shu.patriline_df.loc[to_patriarch, 'birth_coordinates'] = to_coordinate\n",
    "s.store_objects(patriline_df=shu.patriline_df)"
   ]
  },
  {
   "cell_type": "code",
   "execution_count": null,
   "metadata": {},
   "outputs": [],
   "source": [
    "\n",
    "mask_series = ~shu.patriline_df.birth_longitude.isnull() & ~shu.patriline_df.birth_latitude.isnull()\n",
    "mask_series = mask_series & shu.patriline_df.birth_coordinates.isnull()\n",
    "for patriarch_name, row_series in shu.patriline_df[mask_series].sort_values('year_of_birth').iterrows():\n",
    "    birth_longitude = row_series.birth_longitude\n",
    "    birth_latitude = row_series.birth_latitude\n",
    "    coordinates_str = '{},{},0'.format(birth_latitude, birth_longitude)\n",
    "    shu.patriline_df.loc[patriarch_name, 'birth_coordinates'] = coordinates_str\n",
    "s.store_objects(patriline_df=shu.patriline_df)"
   ]
  },
  {
   "cell_type": "code",
   "execution_count": null,
   "metadata": {},
   "outputs": [],
   "source": [
    "\n",
    "#print(['row_series.{}'.format(fn) for fn in dir(row_series) if not fn.startswith('_')])\n",
    "columns_list = ['birth_longitude', 'birth_latitude', 'death_longitude', 'death_latitude']\n",
    "shu.patriline_df.loc['Thomas Bobbet', 'birth_latitude'] = 0.8708900000000001\n",
    "shu.patriline_df.loc['Thomas Bobbet', 'birth_longitude'] = 52.3603\n",
    "shu.patriline_df.loc['Edward Bobet', 'birth_latitude'] = -4.57017\n",
    "shu.patriline_df.loc['Edward Bobet', 'birth_longitude'] = 52.82131\n",
    "shu.patriline_df.loc['Stephen Elkanah Babbitt', 'birth_longitude'] = 42.564148032106\n",
    "shu.patriline_df.loc['Stephen Elkanah Babbitt', 'birth_latitude'] = -70.8755600452423\n",
    "shu.patriline_df.loc['David George Babbitt', 'birth_latitude'] = -111.6438675\n",
    "shu.patriline_df.loc['David George Babbitt', 'birth_longitude'] = 35.2088123\n",
    "for column_name in columns_list:\n",
    "    shu.patriline_df[column_name] = shu.patriline_df[column_name].map(lambda x: round(x, 8))\n",
    "s.store_objects(patriline_df=shu.patriline_df)"
   ]
  },
  {
   "cell_type": "code",
   "execution_count": null,
   "metadata": {},
   "outputs": [],
   "source": [
    "\n",
    "mask_series = ~shu.patriline_df.birth_longitude.isnull() & ~shu.patriline_df.birth_latitude.isnull()\n",
    "for patriarch_name, row_series in shu.patriline_df[mask_series].sort_values('year_of_birth').iterrows():\n",
    "    birth_longitude = row_series.birth_longitude\n",
    "    birth_latitude = row_series.birth_latitude\n",
    "    print('{}: {},{},0'.format(patriarch_name, birth_latitude, birth_longitude))"
   ]
  },
  {
   "cell_type": "code",
   "execution_count": null,
   "metadata": {},
   "outputs": [],
   "source": [
    "\n",
    "columns_list = ['year_of_birth', 'year_of_death', 'birth_longitude',\n",
    "                'birth_latitude', 'death_longitude', 'death_latitude', 'map_link']\n",
    "url_format = 'https://www.google.com/maps/dir/{},{}{}/{},{}{}'\n",
    "mask_series = ~shu.patriline_df.birth_longitude.isnull() & ~shu.patriline_df.birth_latitude.isnull()\n",
    "mask_series = mask_series & ~shu.patriline_df.death_longitude.isnull() & ~shu.patriline_df.death_latitude.isnull()\n",
    "for patriarch_name, row_series in shu.patriline_df[mask_series][columns_list].sort_values('year_of_birth').iterrows():\n",
    "    birth_longitude = row_series.birth_longitude\n",
    "    birth_latitude = row_series.birth_latitude\n",
    "    if birth_latitude > 0:\n",
    "        birth_plusminus = '+'\n",
    "    else:\n",
    "        birth_plusminus = ''\n",
    "    death_longitude = row_series.death_longitude\n",
    "    death_latitude = row_series.death_latitude\n",
    "    if death_latitude > 0:\n",
    "        death_plusminus = '+'\n",
    "    else:\n",
    "        death_plusminus = ''\n",
    "    \n",
    "    # https://www.google.com/maps/dir/52.361371,+0.869079/52.674122,+0.669334\n",
    "    url_str = url_format.format(birth_longitude, birth_plusminus, birth_latitude,\n",
    "                                death_longitude, death_plusminus, death_latitude)\n",
    "    print(url_str)\n",
    "    !\"C:\\Program Files (x86)\\Google\\Chrome\\Application\\chrome.exe\" {url_str}"
   ]
  },
  {
   "cell_type": "code",
   "execution_count": null,
   "metadata": {},
   "outputs": [],
   "source": [
    "\n",
    "import pandas as pd\n",
    "\n",
    "map_link = 'https://goo.gl/maps/Bh4L47JU27i4QcKN6'\n",
    "#shu.patriline_df.map_link = pd.np.nan\n",
    "shu.patriline_df.loc['Thomas Bobbet', 'map_link'] = map_link\n",
    "s.store_objects(patriline_df=shu.patriline_df)"
   ]
  },
  {
   "cell_type": "code",
   "execution_count": null,
   "metadata": {},
   "outputs": [],
   "source": [
    "\n",
    "latlon_list = []\n",
    "url_format = 'https://www.google.com/maps/dir/{}'\n",
    "latlon_format = '{},{}{}'\n",
    "mask_series = ~shu.patriline_df.birth_longitude.isnull() & ~shu.patriline_df.birth_latitude.isnull()\n",
    "for patriarch_name, row_series in shu.patriline_df[mask_series][columns_list].sort_values('year_of_birth').iterrows():\n",
    "    birth_longitude = row_series.birth_longitude\n",
    "    birth_latitude = row_series.birth_latitude\n",
    "    if birth_latitude > 0:\n",
    "        birth_plusminus = '+'\n",
    "    else:\n",
    "        birth_plusminus = ''\n",
    "    \n",
    "    # 52.361371,+0.869079\n",
    "    latlon_str = latlon_format.format(birth_longitude, birth_plusminus, birth_latitude)\n",
    "    latlon_list.append(latlon_str)\n",
    "url_str = url_format.format('/'.join(latlon_list))\n",
    "print(url_str)\n",
    "!\"C:\\Program Files (x86)\\Google\\Chrome\\Application\\chrome.exe\" {url_str}"
   ]
  },
  {
   "cell_type": "code",
   "execution_count": null,
   "metadata": {},
   "outputs": [],
   "source": [
    "\n",
    "tables_url = os.path.join(s.data_folder, 'html', 'google_maps_marker_color_choices.html')\n",
    "shu.get_page_tables(tables_url)[0]"
   ]
  },
  {
   "cell_type": "code",
   "execution_count": null,
   "metadata": {},
   "outputs": [],
   "source": [
    "\n",
    "%run ../py/soup.py\n",
    "\n",
    "div_css = '#VIpgJd-nEeMgc-eEDwDf0 > div'\n",
    "page_soup = get_page_soup(tables_url)\n",
    "print(['page_soup.{}'.format(fn) for fn in dir(page_soup) if 'find' in fn])"
   ]
  },
  {
   "cell_type": "code",
   "execution_count": null,
   "metadata": {},
   "outputs": [],
   "source": [
    "\n",
    "# data-tooltip=\"RGB (136, 14, 79)\"\n",
    "colors_dict = {}\n",
    "div_tag_list = page_soup.findAll(name='div')\n",
    "i = 0\n",
    "div_tag = div_tag_list[i]\n",
    "#print(['div_tag.{}'.format(fn) for fn in dir(div_tag) if 'attr' in fn])\n",
    "for i, div_tag in enumerate(div_tag_list):\n",
    "    div_tooltip = div_tag.attrs['data-tooltip']\n",
    "    rgb_list = re.split(r'(\\d+)', div_tooltip, 0)\n",
    "    rgb_tuple = (float(rgb_list[1])/255, float(rgb_list[3])/255, float(rgb_list[5])/255, 255/255)\n",
    "    colors_dict[i] = rgb_tuple\n",
    "colors_df = shu.colors_dict_to_dataframe(colors_dict)\n",
    "colors_df.sample(5)"
   ]
  },
  {
   "cell_type": "code",
   "execution_count": null,
   "metadata": {},
   "outputs": [],
   "source": [
    "\n",
    "distance_df = shu.get_distance_dataframe(colors_df, color_title='CSS4')\n",
    "distance_df.sample(5).T"
   ]
  },
  {
   "cell_type": "code",
   "execution_count": null,
   "metadata": {},
   "outputs": [],
   "source": [
    "\n",
    "google_list = []\n",
    "google_color_dict = {}\n",
    "for key, four_tuple in colors_dict.items():\n",
    "    rgb_tuple = (four_tuple[0], four_tuple[1], four_tuple[2])\n",
    "    google_list.append(rgb_tuple)\n",
    "    google_color_dict[rgb_tuple] = key"
   ]
  },
  {
   "cell_type": "code",
   "execution_count": null,
   "metadata": {},
   "outputs": [],
   "source": [
    "\n",
    "webcolors = spiral_utils.webcolors\n",
    "patriarch_list = []\n",
    "mask_series = ~shu.patriline_df.birth_longitude.isnull() & ~shu.patriline_df.birth_latitude.isnull()\n",
    "for patriarch_name, row_series in shu.patriline_df[mask_series].sort_values('year_of_birth').iterrows():\n",
    "    css4_color = row_series.css4_color\n",
    "    patriarch_list.append(css4_color)"
   ]
  },
  {
   "cell_type": "code",
   "execution_count": null,
   "metadata": {},
   "outputs": [],
   "source": [
    "\n",
    "print(['webcolors.{}'.format(fn) for fn in dir(webcolors) if 'rgb' in fn])"
   ]
  },
  {
   "cell_type": "code",
   "execution_count": null,
   "metadata": {},
   "outputs": [],
   "source": [
    "\n",
    "webcolors.hex_to_rgb_percent?"
   ]
  },
  {
   "cell_type": "code",
   "execution_count": null,
   "metadata": {},
   "outputs": [],
   "source": [
    "\n",
    "hex_value = '#880e4f'\n",
    "webcolors.hex_to_rgb_percent(hex_value)"
   ]
  },
  {
   "cell_type": "code",
   "execution_count": null,
   "metadata": {},
   "outputs": [],
   "source": [
    "\n",
    "patriarch_color_dict = {row_series.css4_color: patriarch_name for patriarch_name,\n",
    "                        row_series in shu.patriline_df[mask_series].sort_values('year_of_birth').iterrows()}"
   ]
  },
  {
   "cell_type": "code",
   "execution_count": null,
   "metadata": {},
   "outputs": [],
   "source": [
    "\n",
    "def check_for_closeness(left_list, right_list):\n",
    "    rows_list = []\n",
    "    for left_tuple in left_list:\n",
    "        min_similarity = 1000\n",
    "        min_tuple = pd.np.nan\n",
    "        for css4_color in right_list:\n",
    "            rgb_obj = webcolors.name_to_rgb(css4_color, spec='css3')\n",
    "            right_tuple = (rgb_obj.red/255, rgb_obj.green/255, rgb_obj.blue/255)\n",
    "            this_similarity = shu.distance_between(left_tuple, right_tuple)\n",
    "            if this_similarity < min_similarity:\n",
    "                min_similarity = this_similarity\n",
    "                min_tuple = css4_color\n",
    "\n",
    "        # Get input row in dictionary format; key = col_name\n",
    "        row_dict = {}\n",
    "        row_dict['left_tuple'] = left_tuple\n",
    "        row_dict['map_color'] = google_color_dict[left_tuple]+1\n",
    "        row_dict['css4_color'] = min_tuple\n",
    "        row_dict['patriarch_name'] = patriarch_color_dict[min_tuple]\n",
    "        row_dict['min_similarity'] = min_similarity\n",
    "\n",
    "        rows_list.append(row_dict)\n",
    "\n",
    "    column_list = ['left_tuple', 'map_color', 'css4_color', 'patriarch_name', 'min_similarity']\n",
    "    name_similarities_df = pd.DataFrame(rows_list, columns=column_list)\n",
    "    \n",
    "    return name_similarities_df"
   ]
  },
  {
   "cell_type": "code",
   "execution_count": null,
   "metadata": {},
   "outputs": [],
   "source": [
    "\n",
    "check_for_closeness(left_list=google_list, right_list=patriarch_list).sort_values('min_similarity')"
   ]
  },
  {
   "cell_type": "code",
   "execution_count": null,
   "metadata": {},
   "outputs": [],
   "source": [
    "\n",
    "print(['webcolors.{}'.format(fn) for fn in dir(webcolors) if 'hex' in fn])"
   ]
  },
  {
   "cell_type": "code",
   "execution_count": null,
   "metadata": {},
   "outputs": [],
   "source": [
    "\n",
    "import fastkml\n",
    "from fastkml.config import etree\n",
    "from lxml import html\n",
    "\n",
    "file_path = os.path.join(s.saves_folder, 'kml', 'Babbitt Patriline Birth Locations.kml')\n",
    "with open(file_path, 'r', encoding=s.encoding_type, errors='ignore') as f:\n",
    "    xml_string = f.read()\n",
    "k = fastkml.KML()\n",
    "#k.from_string(xml_string)\n",
    "#element = etree.XML(xml_string)\n",
    "parser = html.fromstring(bytes(xml_string, encoding=s.encoding_type))"
   ]
  },
  {
   "cell_type": "code",
   "execution_count": null,
   "metadata": {},
   "outputs": [],
   "source": [
    "\n",
    "root_tree = parser.getroottree()"
   ]
  },
  {
   "cell_type": "code",
   "execution_count": null,
   "metadata": {},
   "outputs": [],
   "source": [
    "\n",
    "coordinates_dict = {}\n",
    "coordinates_elems_list = root_tree.findall('//coordinates')\n",
    "for coordinates_elem in coordinates_elems_list:\n",
    "    placemark_elem = coordinates_elem.getparent().getparent()\n",
    "    name_elem = placemark_elem.find(path='name')\n",
    "    placemark_name = name_elem.text\n",
    "    if placemark_name in coordinates_dict:\n",
    "        print('{} already in coordinates_dict'.format(placemark_name))\n",
    "    else:\n",
    "        coordinates_dict[placemark_name] = coordinates_elem.text.strip()\n",
    "    #break\n",
    "#print(['name_elem.{}'.format(fn) for fn in dir(name_elem) if 'text' in fn.lower()])"
   ]
  },
  {
   "cell_type": "code",
   "execution_count": null,
   "metadata": {},
   "outputs": [],
   "source": [
    "\n",
    "s.store_objects(coordinates_dict=coordinates_dict)"
   ]
  },
  {
   "cell_type": "code",
   "execution_count": 42,
   "metadata": {},
   "outputs": [
    {
     "data": {
      "text/html": [
       "<div>\n",
       "<style scoped>\n",
       "    .dataframe tbody tr th:only-of-type {\n",
       "        vertical-align: middle;\n",
       "    }\n",
       "\n",
       "    .dataframe tbody tr th {\n",
       "        vertical-align: top;\n",
       "    }\n",
       "\n",
       "    .dataframe thead th {\n",
       "        text-align: right;\n",
       "    }\n",
       "</style>\n",
       "<table border=\"1\" class=\"dataframe\">\n",
       "  <thead>\n",
       "    <tr style=\"text-align: right;\">\n",
       "      <th>patriarch_name</th>\n",
       "      <th>David William Babbitt, Jr.</th>\n",
       "    </tr>\n",
       "  </thead>\n",
       "  <tbody>\n",
       "    <tr>\n",
       "      <th>year_of_birth</th>\n",
       "      <td>1858</td>\n",
       "    </tr>\n",
       "    <tr>\n",
       "      <th>year_of_death</th>\n",
       "      <td>1929.0</td>\n",
       "    </tr>\n",
       "    <tr>\n",
       "      <th>generation_name</th>\n",
       "      <td>Progressive</td>\n",
       "    </tr>\n",
       "    <tr>\n",
       "      <th>date_of_birth</th>\n",
       "      <td>May 14, 1858</td>\n",
       "    </tr>\n",
       "    <tr>\n",
       "      <th>place_of_birth</th>\n",
       "      <td>Cincinnati, Hamilton, OH, United States</td>\n",
       "    </tr>\n",
       "    <tr>\n",
       "      <th>birth_longitude</th>\n",
       "      <td>39.136452</td>\n",
       "    </tr>\n",
       "    <tr>\n",
       "      <th>birth_latitude</th>\n",
       "      <td>-84.610441</td>\n",
       "    </tr>\n",
       "    <tr>\n",
       "      <th>date_of_death</th>\n",
       "      <td>November 08, 1929 (71)</td>\n",
       "    </tr>\n",
       "    <tr>\n",
       "      <th>place_of_death</th>\n",
       "      <td>Flagstaff, Coconino, AZ, United States</td>\n",
       "    </tr>\n",
       "    <tr>\n",
       "      <th>death_longitude</th>\n",
       "      <td>35.181273</td>\n",
       "    </tr>\n",
       "    <tr>\n",
       "      <th>death_latitude</th>\n",
       "      <td>-111.642978</td>\n",
       "    </tr>\n",
       "    <tr>\n",
       "      <th>saeculum_name</th>\n",
       "      <td>Civil War</td>\n",
       "    </tr>\n",
       "    <tr>\n",
       "      <th>xkcd_color</th>\n",
       "      <td>xkcd:bright magenta</td>\n",
       "    </tr>\n",
       "    <tr>\n",
       "      <th>css4_color</th>\n",
       "      <td>fuchsia</td>\n",
       "    </tr>\n",
       "    <tr>\n",
       "      <th>xkcd_text_color</th>\n",
       "      <td>black</td>\n",
       "    </tr>\n",
       "    <tr>\n",
       "      <th>css4_text_color</th>\n",
       "      <td>black</td>\n",
       "    </tr>\n",
       "    <tr>\n",
       "      <th>map_link</th>\n",
       "      <td>https://goo.gl/maps/BiUPsyQDdcQTqKCDA</td>\n",
       "    </tr>\n",
       "    <tr>\n",
       "      <th>birth_coordinates</th>\n",
       "      <td>-84.61028,39.13622,0</td>\n",
       "    </tr>\n",
       "    <tr>\n",
       "      <th>archetype_name</th>\n",
       "      <td>Artist</td>\n",
       "    </tr>\n",
       "  </tbody>\n",
       "</table>\n",
       "</div>"
      ],
      "text/plain": [
       "patriarch_name                  David William Babbitt, Jr.\n",
       "year_of_birth                                         1858\n",
       "year_of_death                                       1929.0\n",
       "generation_name                                Progressive\n",
       "date_of_birth                                 May 14, 1858\n",
       "place_of_birth     Cincinnati, Hamilton, OH, United States\n",
       "birth_longitude                                  39.136452\n",
       "birth_latitude                                  -84.610441\n",
       "date_of_death                       November 08, 1929 (71)\n",
       "place_of_death      Flagstaff, Coconino, AZ, United States\n",
       "death_longitude                                  35.181273\n",
       "death_latitude                                 -111.642978\n",
       "saeculum_name                                    Civil War\n",
       "xkcd_color                             xkcd:bright magenta\n",
       "css4_color                                         fuchsia\n",
       "xkcd_text_color                                      black\n",
       "css4_text_color                                      black\n",
       "map_link             https://goo.gl/maps/BiUPsyQDdcQTqKCDA\n",
       "birth_coordinates                     -84.61028,39.13622,0\n",
       "archetype_name                                      Artist"
      ]
     },
     "execution_count": 42,
     "metadata": {},
     "output_type": "execute_result"
    }
   ],
   "source": [
    "\n",
    "# Who in my patriline was the contemporary of Friedrich Nietzsche?\n",
    "def get_generation_name(year_of_birth):\n",
    "    mask_series = (generations_df['birth_year_begin'] <= year_of_birth) & (generations_df['birth_year_end'] >= year_of_birth)\n",
    "    generation_name_list = generations_df[mask_series].index.tolist()\n",
    "    if len(generation_name_list):\n",
    "        generation_name = generation_name_list[0]\n",
    "    else:\n",
    "        generation_name = np.nan\n",
    "    \n",
    "    return generation_name\n",
    "year_of_birth = 1844\n",
    "generation_name = get_generation_name(year_of_birth)\n",
    "mask_series = (patriline_df.generation_name == generation_name)\n",
    "patriline_df[mask_series].T"
   ]
  },
  {
   "cell_type": "code",
   "execution_count": null,
   "metadata": {},
   "outputs": [],
   "source": []
  }
 ],
 "metadata": {
  "kernelspec": {
   "display_name": "Python 3 (ipykernel)",
   "language": "python",
   "name": "python3"
  },
  "language_info": {
   "codemirror_mode": {
    "name": "ipython",
    "version": 3
   },
   "file_extension": ".py",
   "mimetype": "text/x-python",
   "name": "python",
   "nbconvert_exporter": "python",
   "pygments_lexer": "ipython3",
   "version": "3.9.7"
  }
 },
 "nbformat": 4,
 "nbformat_minor": 4
}
