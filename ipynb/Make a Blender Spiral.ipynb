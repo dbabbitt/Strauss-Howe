{
 "cells": [
  {
   "cell_type": "code",
   "execution_count": 1,
   "metadata": {},
   "outputs": [],
   "source": [
    "\n",
    "import sys, os\n",
    "\n",
    "# Insert at 1, 0 is the script path (or '' in REPL)\n",
    "sys.path.insert(1, '../py')"
   ]
  },
  {
   "cell_type": "code",
   "execution_count": 2,
   "metadata": {},
   "outputs": [
    {
     "name": "stdout",
     "output_type": "stream",
     "text": [
      "Pretty printing has been turned OFF\n",
      "FILEPATH_REGEX\t Image\t Path\t Storage\t StraussHoweUtilities\t URL_REGEX\t atan\t bs\t cos\t \n",
      "csv\t example_iterrows\t get_column_descriptions\t get_max_rsquared_adj\t get_page_soup\t get_page_tables\t get_wiki_tables\t imshow\t io\t \n",
      "math\t np\t os\t pd\t pi\t pickle\t plt\t random\t re\t \n",
      "s\t set_matplotlib_formats\t shu\t sin\t sm\t sns\t sqrt\t stats\t sys\t \n",
      "urllib\t urlretrieve\t \n"
     ]
    }
   ],
   "source": [
    "\n",
    "%run ../load_magic/storage.py\n",
    "%run ../load_magic/dataframes.py\n",
    "%pprint\n",
    "%matplotlib inline\n",
    "import matplotlib.pyplot as plt\n",
    "\n",
    "# Use the following only if you are on a high definition device\n",
    "from matplotlib_inline.backend_inline import set_matplotlib_formats\n",
    "set_matplotlib_formats('retina')\n",
    "\n",
    "import re\n",
    "from math import cos, sin, pi, sqrt, atan\n",
    "import numpy as np\n",
    "from PIL import Image\n",
    "from matplotlib.pyplot import imshow\n",
    "from spiral_utils import StraussHoweUtilities\n",
    "\n",
    "s = Storage()\n",
    "shu = StraussHoweUtilities(s=s)\n",
    "%who"
   ]
  },
  {
   "cell_type": "code",
   "execution_count": 3,
   "metadata": {},
   "outputs": [
    {
     "name": "stdout",
     "output_type": "stream",
     "text": [
      "Attempting to load C:\\Users\\daveb\\OneDrive\\Documents\\GitHub\\Strauss-Howe\\saves\\pkl\\patriline_df.pkl.\n",
      "Attempting to load C:\\Users\\daveb\\OneDrive\\Documents\\GitHub\\Strauss-Howe\\saves\\pkl\\turnings_df.pkl.\n"
     ]
    }
   ],
   "source": [
    "\n",
    "cw_history_year_dict = s.load_object('cw_history_year_dict')\n",
    "dataframes_dict = s.load_dataframes(patriline_df='patriline_df', turnings_df='turnings_df')"
   ]
  },
  {
   "cell_type": "code",
   "execution_count": 4,
   "metadata": {},
   "outputs": [],
   "source": [
    "\n",
    "index_name = 'Patriarch Name'\n",
    "patriline_df = dataframes_dict['patriline_df']\n",
    "if 'Unnamed: 0' in patriline_df.columns:\n",
    "    patriline_df = patriline_df.set_index('Unnamed: 0')\n",
    "elif index_name in patriline_df.columns:\n",
    "    patriline_df = patriline_df.set_index(index_name)\n",
    "patriline_df.index.name = index_name"
   ]
  },
  {
   "cell_type": "code",
   "execution_count": 5,
   "metadata": {},
   "outputs": [],
   "source": [
    "\n",
    "index_name = 'turning_name'\n",
    "turnings_df = dataframes_dict['turnings_df']\n",
    "if 'Unnamed: 0' in turnings_df.columns:\n",
    "    turnings_df = turnings_df.set_index('Unnamed: 0')\n",
    "elif index_name in turnings_df.columns:\n",
    "    turnings_df = turnings_df.set_index(index_name)\n",
    "turnings_df.index.name = index_name"
   ]
  },
  {
   "cell_type": "code",
   "execution_count": 6,
   "metadata": {},
   "outputs": [],
   "source": [
    "\n",
    "py_file_header_str = '''\n",
    "import bpy\n",
    "\n",
    "# Get spiral data\n",
    "patriarch_coords_dict = {}\n",
    "'''"
   ]
  },
  {
   "cell_type": "code",
   "execution_count": 7,
   "metadata": {},
   "outputs": [],
   "source": [
    "\n",
    "py_file_footer_str = \"\"\"\n",
    "\n",
    "for patriarch_name, coords in patriarch_coords_dict.items():\n",
    "    \n",
    "    # create the Curve Datablock\n",
    "    curveData = bpy.data.curves.new(patriarch_name, type='CURVE')\n",
    "    curveData.dimensions = '3D'\n",
    "    curveData.resolution_u = 2\n",
    "    \n",
    "    # map coords to spline\n",
    "    polyline = curveData.splines.new('NURBS')\n",
    "    polyline.points.add(len(coords))\n",
    "    for i, coord in enumerate(coords):\n",
    "        x,y,z = coord\n",
    "        polyline.points[i].co = (x, y, z, 1)\n",
    "\n",
    "    # create Object\n",
    "    curveOB = bpy.data.objects.new(patriarch_name, curveData)\n",
    "\n",
    "    # attach to scene and validate context\n",
    "    scn = bpy.context.scene\n",
    "    scn.objects.link(curveOB)\n",
    "    scn.objects.active = curveOB\n",
    "    curveOB.select = True\"\"\""
   ]
  },
  {
   "cell_type": "code",
   "execution_count": 8,
   "metadata": {},
   "outputs": [],
   "source": [
    "\n",
    "py_bezier_file_footer_str = \"\"\"\n",
    "\n",
    "for patriarch_name, coords in patriarch_coords_dict.items():\n",
    "    \n",
    "    # create the Curve Datablock\n",
    "    curveData = bpy.data.curves.new(patriarch_name, type='CURVE')\n",
    "    curveData.dimensions = '3D'\n",
    "    curveData.resolution_u = 2\n",
    "    \n",
    "    # map coords to spline\n",
    "    polyline = curveData.splines.new('BEZIER')\n",
    "    coords_count = len(coords)\n",
    "    polyline.bezier_points.add(coords_count-1)\n",
    "    for i, coord in enumerate(coords):\n",
    "        x, y, z = coord\n",
    "        polyline.bezier_points[i].co = (x, y, z)\n",
    "    for i in range(coords_count):\n",
    "        if (i == 0) or (i == coords_count-1):\n",
    "            polyline.bezier_points[i].handle_left = polyline.bezier_points[i].handle_right = polyline.bezier_points[i].co\n",
    "        else:\n",
    "            x, y, z = coords[i-1]\n",
    "            polyline.bezier_points[i].handle_left = (x, y, z)\n",
    "            x, y, z = coords[i+1]\n",
    "            polyline.bezier_points[i].handle_right = (x, y, z)\n",
    "\n",
    "    # create Object\n",
    "    curveOB = bpy.data.objects.new(patriarch_name, curveData)\n",
    "\n",
    "    # attach to scene and validate context\n",
    "    scn = bpy.context.scene\n",
    "    scn.objects.link(curveOB)\n",
    "    scn.objects.active = curveOB\n",
    "    curveOB.select = True\"\"\""
   ]
  },
  {
   "cell_type": "code",
   "execution_count": 10,
   "metadata": {},
   "outputs": [
    {
     "name": "stdout",
     "output_type": "stream",
     "text": [
      "Saving to C:\\Users\\daveb\\OneDrive\\Documents\\GitHub\\Strauss-Howe\\py\\output_2030.py\n"
     ]
    }
   ],
   "source": [
    "\n",
    "stopped_year = 2030\n",
    "py_dir = os.path.join('..', 'py')\n",
    "os.makedirs(name=py_dir, exist_ok=True)\n",
    "out_file_path = os.path.join(py_dir, f'output_{stopped_year}.py')\n",
    "shu.save_stopped_babbitt_plot_as_blender_script(history_year_dict=cw_history_year_dict, stopped_year=stopped_year, out_file_path=out_file_path,\n",
    "                              footer_str=py_bezier_file_footer_str, py_file_header_str=py_file_header_str, verbose=True)"
   ]
  },
  {
   "cell_type": "code",
   "execution_count": null,
   "metadata": {},
   "outputs": [],
   "source": [
    "\n",
    "min_year = patriline_df['Year of Birth'].min()\n",
    "for stopped_year in range(min_year, 2031):\n",
    "    out_file_path = os.path.join(py_dir, 'output_{}.py'.format(stopped_year))\n",
    "    shu.save_stopped_babbitt_plot_as_blender_script(cw_history_year_dict, stopped_year, out_file_path, py_file_footer_str)"
   ]
  },
  {
   "cell_type": "code",
   "execution_count": null,
   "metadata": {},
   "outputs": [],
   "source": [
    "%%javascript\n",
    "var kernel = IPython.notebook.kernel;\n",
    "var body = document.body;\n",
    "var attribs = body.attributes;\n",
    "var command = \"notebook_path = \" + \"'\"+attribs['data-notebook-path'].value+\"'\";\n",
    "kernel.execute(command);"
   ]
  },
  {
   "cell_type": "code",
   "execution_count": null,
   "metadata": {},
   "outputs": [],
   "source": [
    "# %load ../../load_magic/nbviewer.py\n",
    "\n",
    "from IPython.display import HTML\n",
    "\n",
    "notebook_viewer_url = 'https://nbviewer.jupyter.org/github/dbabbitt/notebooks/blob/master/'\n",
    "notebook_viewer_url += '/'.join(notebook_path.split('/')[1:])\n",
    "html_str = 'Click <a href=\"{}\" target=\"_blank\">here</a> to view notebook in nbviewer.'\n",
    "HTML(html_str.format(notebook_viewer_url))"
   ]
  },
  {
   "cell_type": "code",
   "execution_count": null,
   "metadata": {},
   "outputs": [],
   "source": []
  }
 ],
 "metadata": {
  "kernelspec": {
   "display_name": "Python 3 (ipykernel)",
   "language": "python",
   "name": "python3"
  },
  "language_info": {
   "codemirror_mode": {
    "name": "ipython",
    "version": 3
   },
   "file_extension": ".py",
   "mimetype": "text/x-python",
   "name": "python",
   "nbconvert_exporter": "python",
   "pygments_lexer": "ipython3",
   "version": "3.9.7"
  }
 },
 "nbformat": 4,
 "nbformat_minor": 4
}
