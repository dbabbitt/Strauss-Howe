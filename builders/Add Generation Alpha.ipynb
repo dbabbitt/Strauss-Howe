{
 "cells": [
  {
   "cell_type": "code",
   "execution_count": null,
   "id": "58a2f1bf-673e-4de3-acd5-9aa466b630e7",
   "metadata": {},
   "outputs": [],
   "source": []
  },
  {
   "cell_type": "code",
   "execution_count": 1,
   "id": "7d5e06c7-2037-4c62-9858-3ad3fdd0ea75",
   "metadata": {},
   "outputs": [
    {
     "name": "stdout",
     "output_type": "stream",
     "text": [
      "Pretty printing has been turned OFF\n"
     ]
    }
   ],
   "source": [
    "\n",
    "%pprint\n",
    "%matplotlib inline"
   ]
  },
  {
   "cell_type": "code",
   "execution_count": 2,
   "id": "784133b4-5687-440a-b5a7-4f2e55308710",
   "metadata": {},
   "outputs": [],
   "source": [
    "\n",
    "import sys, os\n",
    "\n",
    "# Insert at 1, 0 is the script path (or '' in REPL)\n",
    "sys.path.insert(1, osp.join(os.pardir, 'py'))\n",
    "\n",
    "# Get pydub to not give warnings\n",
    "ffmpeg_path = r'C:\\ffmpeg\\bin'\n",
    "paths_list = os.environ['PATH'].split(os.pathsep)\n",
    "if ffmpeg_path not in paths_list:\n",
    "    paths_list.append(ffmpeg_path)\n",
    "    os.environ['PATH'] = os.pathsep.join(paths_list)\n",
    "    print(os.environ['PATH'])\n",
    "import inflect\n",
    "\n",
    "from datetime import date\n",
    "from matplotlib_inline.backend_inline import set_matplotlib_formats\n",
    "from scraping_utils import ScrapingUtilities\n",
    "from spiral_utils import StraussHoweUtilities\n",
    "from storage import Storage\n",
    "import math\n",
    "import matplotlib.pyplot as plt\n",
    "import numpy as np\n",
    "import pandas as pd\n",
    "import re\n",
    "\n",
    "s = Storage()\n",
    "shu = StraussHoweUtilities(s=s)\n",
    "su = ScrapingUtilities(s=s)\n",
    "set_matplotlib_formats('retina')"
   ]
  },
  {
   "cell_type": "markdown",
   "id": "395e8738-5342-4799-809b-82dc5384ef7a",
   "metadata": {},
   "source": [
    "\n",
    "---"
   ]
  },
  {
   "cell_type": "code",
   "execution_count": 4,
   "id": "85088a91-7c3a-4225-bc7f-504e43cb4ece",
   "metadata": {},
   "outputs": [
    {
     "name": "stdout",
     "output_type": "stream",
     "text": [
      "Pickling to C:\\Users\\daveb\\OneDrive\\Documents\\GitHub\\Strauss-Howe\\saves\\pkl\\generations_df.pkl\n"
     ]
    }
   ],
   "source": [
    "\n",
    "mask_series = (shu.generations_df.index == 'Homeland')\n",
    "face_slaps_list = ['War on Terror', 'Climate Change', 'Opioid epidemic', 'COVID-19 pandemic', 'Ukraine War']\n",
    "shu.generations_df.loc[mask_series, 'childhood_turning_description'] = ', '.join(face_slaps_list)\n",
    "s.store_objects(generations_df=shu.generations_df)\n",
    "shu = StraussHoweUtilities(s=s)"
   ]
  },
  {
   "cell_type": "code",
   "execution_count": 4,
   "id": "3ce4586e-5753-42c4-8484-a31a03d91b58",
   "metadata": {},
   "outputs": [
    {
     "data": {
      "text/html": [
       "<div>\n",
       "<style scoped>\n",
       "    .dataframe tbody tr th:only-of-type {\n",
       "        vertical-align: middle;\n",
       "    }\n",
       "\n",
       "    .dataframe tbody tr th {\n",
       "        vertical-align: top;\n",
       "    }\n",
       "\n",
       "    .dataframe thead th {\n",
       "        text-align: right;\n",
       "    }\n",
       "</style>\n",
       "<table border=\"1\" class=\"dataframe\">\n",
       "  <thead>\n",
       "    <tr style=\"text-align: right;\">\n",
       "      <th>generation_name</th>\n",
       "      <th>Silent</th>\n",
       "      <th>Baby Boom</th>\n",
       "      <th>13th</th>\n",
       "      <th>Millennial</th>\n",
       "      <th>Homeland</th>\n",
       "    </tr>\n",
       "  </thead>\n",
       "  <tbody>\n",
       "    <tr>\n",
       "      <th>childhood_turning_entered</th>\n",
       "      <td>4</td>\n",
       "      <td>1</td>\n",
       "      <td>2</td>\n",
       "      <td>3</td>\n",
       "      <td>4</td>\n",
       "    </tr>\n",
       "    <tr>\n",
       "      <th>saeculum_name</th>\n",
       "      <td>Great Power</td>\n",
       "      <td>Millennial</td>\n",
       "      <td>Millennial</td>\n",
       "      <td>Millennial</td>\n",
       "      <td>Millennial</td>\n",
       "    </tr>\n",
       "    <tr>\n",
       "      <th>turnings_archetype</th>\n",
       "      <td>Artist</td>\n",
       "      <td>Prophet</td>\n",
       "      <td>Nomad</td>\n",
       "      <td>Hero</td>\n",
       "      <td>Artist</td>\n",
       "    </tr>\n",
       "    <tr>\n",
       "      <th>generations_archetype</th>\n",
       "      <td>Adaptive</td>\n",
       "      <td>Idealist</td>\n",
       "      <td>Reactive</td>\n",
       "      <td>Civic</td>\n",
       "      <td>Adaptive</td>\n",
       "    </tr>\n",
       "    <tr>\n",
       "      <th>birth_year_begin</th>\n",
       "      <td>1925</td>\n",
       "      <td>1943</td>\n",
       "      <td>1961</td>\n",
       "      <td>1982</td>\n",
       "      <td>2005</td>\n",
       "    </tr>\n",
       "    <tr>\n",
       "      <th>birth_year_end</th>\n",
       "      <td>1942.0</td>\n",
       "      <td>1960.0</td>\n",
       "      <td>1981.0</td>\n",
       "      <td>2004.0</td>\n",
       "      <td>NaN</td>\n",
       "    </tr>\n",
       "    <tr>\n",
       "      <th>childhood_turning_description</th>\n",
       "      <td>Great Depression, World War II, Dust Bowl</td>\n",
       "      <td>Superpower America, Golden Age of Capitalism</td>\n",
       "      <td>Consciousness Revolution, Fourth Great Awakening</td>\n",
       "      <td>Culture Wars, Postmodernism, Neoliberalism, Gr...</td>\n",
       "      <td>Great Recession, War on Terror, Climate Change...</td>\n",
       "    </tr>\n",
       "    <tr>\n",
       "      <th>turning_year_begin</th>\n",
       "      <td>1929</td>\n",
       "      <td>1946</td>\n",
       "      <td>1963</td>\n",
       "      <td>1984</td>\n",
       "      <td>2008</td>\n",
       "    </tr>\n",
       "    <tr>\n",
       "      <th>turning_year_end</th>\n",
       "      <td>1946.0</td>\n",
       "      <td>1963.0</td>\n",
       "      <td>1983.0</td>\n",
       "      <td>2008.0</td>\n",
       "      <td>NaN</td>\n",
       "    </tr>\n",
       "  </tbody>\n",
       "</table>\n",
       "</div>"
      ],
      "text/plain": [
       "generation_name                                                   Silent  \\\n",
       "childhood_turning_entered                                              4   \n",
       "saeculum_name                                                Great Power   \n",
       "turnings_archetype                                                Artist   \n",
       "generations_archetype                                           Adaptive   \n",
       "birth_year_begin                                                    1925   \n",
       "birth_year_end                                                    1942.0   \n",
       "childhood_turning_description  Great Depression, World War II, Dust Bowl   \n",
       "turning_year_begin                                                  1929   \n",
       "turning_year_end                                                  1946.0   \n",
       "\n",
       "generation_name                                                   Baby Boom  \\\n",
       "childhood_turning_entered                                                 1   \n",
       "saeculum_name                                                    Millennial   \n",
       "turnings_archetype                                                  Prophet   \n",
       "generations_archetype                                              Idealist   \n",
       "birth_year_begin                                                       1943   \n",
       "birth_year_end                                                       1960.0   \n",
       "childhood_turning_description  Superpower America, Golden Age of Capitalism   \n",
       "turning_year_begin                                                     1946   \n",
       "turning_year_end                                                     1963.0   \n",
       "\n",
       "generation_name                                                            13th  \\\n",
       "childhood_turning_entered                                                     2   \n",
       "saeculum_name                                                        Millennial   \n",
       "turnings_archetype                                                        Nomad   \n",
       "generations_archetype                                                  Reactive   \n",
       "birth_year_begin                                                           1961   \n",
       "birth_year_end                                                           1981.0   \n",
       "childhood_turning_description  Consciousness Revolution, Fourth Great Awakening   \n",
       "turning_year_begin                                                         1963   \n",
       "turning_year_end                                                         1983.0   \n",
       "\n",
       "generation_name                                                       Millennial  \\\n",
       "childhood_turning_entered                                                      3   \n",
       "saeculum_name                                                         Millennial   \n",
       "turnings_archetype                                                          Hero   \n",
       "generations_archetype                                                      Civic   \n",
       "birth_year_begin                                                            1982   \n",
       "birth_year_end                                                            2004.0   \n",
       "childhood_turning_description  Culture Wars, Postmodernism, Neoliberalism, Gr...   \n",
       "turning_year_begin                                                          1984   \n",
       "turning_year_end                                                          2008.0   \n",
       "\n",
       "generation_name                                                         Homeland  \n",
       "childhood_turning_entered                                                      4  \n",
       "saeculum_name                                                         Millennial  \n",
       "turnings_archetype                                                        Artist  \n",
       "generations_archetype                                                   Adaptive  \n",
       "birth_year_begin                                                            2005  \n",
       "birth_year_end                                                               NaN  \n",
       "childhood_turning_description  Great Recession, War on Terror, Climate Change...  \n",
       "turning_year_begin                                                          2008  \n",
       "turning_year_end                                                             NaN  "
      ]
     },
     "execution_count": 4,
     "metadata": {},
     "output_type": "execute_result"
    }
   ],
   "source": [
    "\n",
    "generation_names_list = ['Lost', 'G.I.', 'Silent', 'Baby Boom', '13th', 'Millennial', 'Homeland']\n",
    "mask_series = shu.generations_df.index.isin(generation_names_list)\n",
    "shu.generations_df[mask_series].sort_values('birth_year_begin').tail(5).T"
   ]
  },
  {
   "cell_type": "code",
   "execution_count": 7,
   "id": "7c64ffa1-6cf0-4c9d-add1-d1175140eba8",
   "metadata": {},
   "outputs": [
    {
     "name": "stdout",
     "output_type": "stream",
     "text": [
      "fit: end_year = 0.9852826348787512 * begin_year + 48.14689737272639\n",
      "The Homeland Generation: 2008-2026.\n",
      "The Alpha Generation: 2027-2045.\n"
     ]
    },
    {
     "data": {
      "image/png": "[encoded data removed]",
      "text/plain": [
       "<Figure size 432x288 with 1 Axes>"
      ]
     },
     "metadata": {
      "image/png": {
       "height": 261,
       "width": 402
      },
      "needs_background": "light"
     },
     "output_type": "display_data"
    }
   ],
   "source": [
    "\n",
    "popt, get_end_year_turning = shu.fit_year_curve()\n",
    "mask_series = shu.generations_df.turning_year_end.isnull()\n",
    "begin_year_turning = shu.generations_df[mask_series]['turning_year_begin'].tolist()[0]\n",
    "print('fit: end_year = {} * begin_year + {}'.format(*popt))\n",
    "end_year_turning = int(get_end_year_turning(begin_year_turning))\n",
    "print('The Homeland Generation: {}-{}.'.format(begin_year_turning, end_year_turning))\n",
    "begin_year_turning = end_year_turning + 1\n",
    "end_year_turning = int(get_end_year_turning(begin_year_turning))\n",
    "print('The Alpha Generation: {}-{}.'.format(begin_year_turning, end_year_turning))"
   ]
  },
  {
   "cell_type": "code",
   "execution_count": 6,
   "id": "57a9aeaf-1ef8-448f-8df8-d0adc35a2fcd",
   "metadata": {},
   "outputs": [
    {
     "name": "stdout",
     "output_type": "stream",
     "text": [
      "fit: end_year = 0.9852826348787512 * begin_year + 48.14689737272639\n",
      "The Homeland Generation: 2005-2023.\n",
      "The Alpha Generation: 2024-2042.\n"
     ]
    },
    {
     "data": {
      "image/png": "[encoded data removed]",
      "text/plain": [
       "<Figure size 432x288 with 1 Axes>"
      ]
     },
     "metadata": {
      "image/png": {
       "height": 261,
       "width": 402
      },
      "needs_background": "light"
     },
     "output_type": "display_data"
    }
   ],
   "source": [
    "\n",
    "popt, get_end_year_birth = shu.fit_year_curve()\n",
    "mask_series = shu.generations_df.birth_year_end.isnull()\n",
    "begin_year_birth = shu.generations_df[mask_series]['birth_year_begin'].tolist()[0]\n",
    "print('fit: end_year = {} * begin_year + {}'.format(*popt))\n",
    "end_year_birth = int(get_end_year_birth(begin_year_birth))\n",
    "print('The Homeland Generation: {}-{}.'.format(begin_year_birth, end_year_birth))\n",
    "begin_year_birth = end_year_birth + 1\n",
    "end_year_birth = int(get_end_year_birth(begin_year_birth))\n",
    "print('The Alpha Generation: {}-{}.'.format(begin_year_birth, end_year_birth))"
   ]
  },
  {
   "cell_type": "code",
   "execution_count": 30,
   "id": "8a65ead7-d0a7-4a71-8510-abbf0197985c",
   "metadata": {},
   "outputs": [],
   "source": [
    "\n",
    "if 'wikipedia_url' not in shu.generations_df.columns:\n",
    "    shu.generations_df['wikipedia_url'] = np.nan\n",
    "    mask_series = (shu.generations_df.index == 'Lost')\n",
    "    shu.generations_df.loc[mask_series, 'wikipedia_url'] = 'https://en.wikipedia.org/wiki/Lost_Generation'\n",
    "    mask_series = (shu.generations_df.index == 'G.I.')\n",
    "    shu.generations_df.loc[mask_series, 'wikipedia_url'] = 'https://en.wikipedia.org/wiki/Greatest_Generation'\n",
    "    mask_series = (shu.generations_df.index == 'Silent')\n",
    "    shu.generations_df.loc[mask_series, 'wikipedia_url'] = 'https://en.wikipedia.org/wiki/Silent_Generation'\n",
    "    mask_series = (shu.generations_df.index == 'Baby Boom')\n",
    "    shu.generations_df.loc[mask_series, 'wikipedia_url'] = 'https://en.wikipedia.org/wiki/Baby_boomers'\n",
    "    mask_series = (shu.generations_df.index == '13th')\n",
    "    shu.generations_df.loc[mask_series, 'wikipedia_url'] = 'https://en.wikipedia.org/wiki/Generation_X'\n",
    "    mask_series = (shu.generations_df.index == 'Millennial')\n",
    "    shu.generations_df.loc[mask_series, 'wikipedia_url'] = 'https://en.wikipedia.org/wiki/Millennials'\n",
    "    mask_series = (shu.generations_df.index == 'Homeland')\n",
    "    shu.generations_df.loc[mask_series, 'wikipedia_url'] = 'https://en.wikipedia.org/wiki/Generation_Z'\n",
    "    shu.generations_df.loc[mask_series, 'birth_year_end'] = 2023\n",
    "    shu.generations_df.loc[mask_series, 'turning_year_end'] = 2026\n",
    "    s.store_objects(generations_df=shu.generations_df)\n",
    "mask_series = (shu.generations_df.index == 'Alpha')\n",
    "if not mask_series.any():\n",
    "    df = shu.generations_df.sort_values('birth_year_begin').reset_index(drop=False)\n",
    "    row_dict = {\n",
    "        'generation_name': 'Alpha',\n",
    "        'childhood_turning_entered': 1,\n",
    "        'saeculum_name': 'Meta Modern',\n",
    "        'turnings_archetype': 'Prophet',\n",
    "        'generations_archetype': 'Idealist',\n",
    "        'birth_year_begin': 2024,\n",
    "        'birth_year_end': 2042,\n",
    "        'childhood_turning_description': np.nan,\n",
    "        'turning_year_begin': 2027,\n",
    "        'turning_year_end': 2045,\n",
    "        'wikipedia_url': 'https://en.wikipedia.org/wiki/Generation_Alpha'\n",
    "    }\n",
    "    df = df.append(row_dict, ignore_index=True)\n",
    "    s.store_objects(generations_df=df.set_index('generation_name', drop=True))\n",
    "    shu = StraussHoweUtilities(s=s)"
   ]
  },
  {
   "cell_type": "code",
   "execution_count": 29,
   "id": "d611dc04-1579-42ac-86fe-25202524d628",
   "metadata": {},
   "outputs": [
    {
     "data": {
      "text/plain": [
       "{'Arthurian': 'Retreat from France', 'Humanist': 'War of the Roses', 'Reformation': 'Tudor Renaissance', 'Reprisal': 'Protestant Reformation', 'Elizabethan': 'Marian Restoration, Counter-Reformation', 'Parliamentary': 'Armada Crisis', 'Puritan': 'Merrie England', 'Cavalier': 'Puritan Awakening,Antinomian Controversy', 'Glorious': 'English Civil War, Republic, Restoration', 'Enlightenment': \"Salem Witch Trials, King Philip's War, Glorious Revolution, War of the Spanish Succession\", 'Awakening': 'Augustan Age of Empire', 'Liberty': 'Great Awakening, Age of Enlightenment', 'Republican': 'French and Indian War, British Imperialism', 'Compromise': 'American Revolution, Age of Revolution', 'Transcendental': 'Era of Good Feelings', 'Gilded': 'Transcendental Awakening, Romanticism, Abolitionism', 'Civil War': 'Mexican War and Sectionalism, Gold Rush, Wild West', 'Progressive': 'American Civil War', 'Missionary': 'Reconstruction, Gilded Age', 'Lost': 'Missionary Awakening, Progressive era', 'G.I.': 'World War I, Prohibition, Roaring Twenties', 'Silent': 'Great Depression, World War II, Dust Bowl', 'Baby Boom': 'Superpower America, Golden Age of Capitalism', '13th': 'Consciousness Revolution, Fourth Great Awakening', 'Millennial': 'Culture Wars, Postmodernism, Neoliberalism, Great Regression, Gulf War', 'Homeland': 'Great Recession, War on Terror, Climate Change, Cold War II, Opioid epidemic', 'Alpha': 'COVID-19 pandemic, Ukraine War, social networks, and streaming services'}"
      ]
     },
     "execution_count": 29,
     "metadata": {},
     "output_type": "execute_result"
    }
   ],
   "source": [
    "\n",
    "shu.generations_df.childhood_turning_description.to_dict()"
   ]
  },
  {
   "cell_type": "markdown",
   "id": "c8d1e3bb-95bd-4c42-8877-5423227cada3",
   "metadata": {},
   "source": [
    "\n",
    "# Generations"
   ]
  },
  {
   "cell_type": "code",
   "execution_count": 26,
   "id": "6e3d2ece-450a-4308-b347-8ed0b66199d9",
   "metadata": {},
   "outputs": [
    {
     "data": {
      "text/html": [
       "<div>\n",
       "<style scoped>\n",
       "    .dataframe tbody tr th:only-of-type {\n",
       "        vertical-align: middle;\n",
       "    }\n",
       "\n",
       "    .dataframe tbody tr th {\n",
       "        vertical-align: top;\n",
       "    }\n",
       "\n",
       "    .dataframe thead th {\n",
       "        text-align: right;\n",
       "    }\n",
       "</style>\n",
       "<table border=\"1\" class=\"dataframe\">\n",
       "  <thead>\n",
       "    <tr style=\"text-align: right;\">\n",
       "      <th>generation_name</th>\n",
       "      <th>Baby Boom</th>\n",
       "      <th>Compromise</th>\n",
       "      <th>Alpha</th>\n",
       "      <th>Lost</th>\n",
       "      <th>Republican</th>\n",
       "    </tr>\n",
       "  </thead>\n",
       "  <tbody>\n",
       "    <tr>\n",
       "      <th>childhood_turning_entered</th>\n",
       "      <td>1</td>\n",
       "      <td>4</td>\n",
       "      <td>1</td>\n",
       "      <td>2</td>\n",
       "      <td>3</td>\n",
       "    </tr>\n",
       "    <tr>\n",
       "      <th>saeculum_name</th>\n",
       "      <td>Millennial</td>\n",
       "      <td>Revolutionary</td>\n",
       "      <td>Meta Modern</td>\n",
       "      <td>Great Power</td>\n",
       "      <td>Revolutionary</td>\n",
       "    </tr>\n",
       "    <tr>\n",
       "      <th>turnings_archetype</th>\n",
       "      <td>Prophet</td>\n",
       "      <td>Artist</td>\n",
       "      <td>Prophet</td>\n",
       "      <td>Nomad</td>\n",
       "      <td>Hero</td>\n",
       "    </tr>\n",
       "    <tr>\n",
       "      <th>generations_archetype</th>\n",
       "      <td>Idealist</td>\n",
       "      <td>Adaptive</td>\n",
       "      <td>Idealist</td>\n",
       "      <td>Reactive</td>\n",
       "      <td>Civic</td>\n",
       "    </tr>\n",
       "    <tr>\n",
       "      <th>birth_year_begin</th>\n",
       "      <td>1943</td>\n",
       "      <td>1767</td>\n",
       "      <td>2024</td>\n",
       "      <td>1883</td>\n",
       "      <td>1742</td>\n",
       "    </tr>\n",
       "    <tr>\n",
       "      <th>birth_year_end</th>\n",
       "      <td>1960.0</td>\n",
       "      <td>1791.0</td>\n",
       "      <td>2042.0</td>\n",
       "      <td>1900.0</td>\n",
       "      <td>1766.0</td>\n",
       "    </tr>\n",
       "    <tr>\n",
       "      <th>childhood_turning_description</th>\n",
       "      <td>Superpower America, Golden Age of Capitalism</td>\n",
       "      <td>American Revolution, Age of Revolution</td>\n",
       "      <td>COVID-19 pandemic, Ukraine War, social network...</td>\n",
       "      <td>Missionary Awakening, Progressive era</td>\n",
       "      <td>French and Indian War, British Imperialism</td>\n",
       "    </tr>\n",
       "    <tr>\n",
       "      <th>turning_year_begin</th>\n",
       "      <td>1946</td>\n",
       "      <td>1773</td>\n",
       "      <td>2027</td>\n",
       "      <td>1886</td>\n",
       "      <td>1746</td>\n",
       "    </tr>\n",
       "    <tr>\n",
       "      <th>turning_year_end</th>\n",
       "      <td>1963.0</td>\n",
       "      <td>1794.0</td>\n",
       "      <td>2045.0</td>\n",
       "      <td>1908.0</td>\n",
       "      <td>1773.0</td>\n",
       "    </tr>\n",
       "    <tr>\n",
       "      <th>wikipedia_url</th>\n",
       "      <td>https://en.wikipedia.org/wiki/Baby_boomers</td>\n",
       "      <td>NaN</td>\n",
       "      <td>https://en.wikipedia.org/wiki/Generation_Alpha</td>\n",
       "      <td>https://en.wikipedia.org/wiki/Lost_Generation</td>\n",
       "      <td>NaN</td>\n",
       "    </tr>\n",
       "  </tbody>\n",
       "</table>\n",
       "</div>"
      ],
      "text/plain": [
       "generation_name                                                   Baby Boom  \\\n",
       "childhood_turning_entered                                                 1   \n",
       "saeculum_name                                                    Millennial   \n",
       "turnings_archetype                                                  Prophet   \n",
       "generations_archetype                                              Idealist   \n",
       "birth_year_begin                                                       1943   \n",
       "birth_year_end                                                       1960.0   \n",
       "childhood_turning_description  Superpower America, Golden Age of Capitalism   \n",
       "turning_year_begin                                                     1946   \n",
       "turning_year_end                                                     1963.0   \n",
       "wikipedia_url                    https://en.wikipedia.org/wiki/Baby_boomers   \n",
       "\n",
       "generation_name                                            Compromise  \\\n",
       "childhood_turning_entered                                           4   \n",
       "saeculum_name                                           Revolutionary   \n",
       "turnings_archetype                                             Artist   \n",
       "generations_archetype                                        Adaptive   \n",
       "birth_year_begin                                                 1767   \n",
       "birth_year_end                                                 1791.0   \n",
       "childhood_turning_description  American Revolution, Age of Revolution   \n",
       "turning_year_begin                                               1773   \n",
       "turning_year_end                                               1794.0   \n",
       "wikipedia_url                                                     NaN   \n",
       "\n",
       "generation_name                                                            Alpha  \\\n",
       "childhood_turning_entered                                                      1   \n",
       "saeculum_name                                                        Meta Modern   \n",
       "turnings_archetype                                                       Prophet   \n",
       "generations_archetype                                                   Idealist   \n",
       "birth_year_begin                                                            2024   \n",
       "birth_year_end                                                            2042.0   \n",
       "childhood_turning_description  COVID-19 pandemic, Ukraine War, social network...   \n",
       "turning_year_begin                                                          2027   \n",
       "turning_year_end                                                          2045.0   \n",
       "wikipedia_url                     https://en.wikipedia.org/wiki/Generation_Alpha   \n",
       "\n",
       "generation_name                                                         Lost  \\\n",
       "childhood_turning_entered                                                  2   \n",
       "saeculum_name                                                    Great Power   \n",
       "turnings_archetype                                                     Nomad   \n",
       "generations_archetype                                               Reactive   \n",
       "birth_year_begin                                                        1883   \n",
       "birth_year_end                                                        1900.0   \n",
       "childhood_turning_description          Missionary Awakening, Progressive era   \n",
       "turning_year_begin                                                      1886   \n",
       "turning_year_end                                                      1908.0   \n",
       "wikipedia_url                  https://en.wikipedia.org/wiki/Lost_Generation   \n",
       "\n",
       "generation_name                                                Republican  \n",
       "childhood_turning_entered                                               3  \n",
       "saeculum_name                                               Revolutionary  \n",
       "turnings_archetype                                                   Hero  \n",
       "generations_archetype                                               Civic  \n",
       "birth_year_begin                                                     1742  \n",
       "birth_year_end                                                     1766.0  \n",
       "childhood_turning_description  French and Indian War, British Imperialism  \n",
       "turning_year_begin                                                   1746  \n",
       "turning_year_end                                                   1773.0  \n",
       "wikipedia_url                                                         NaN  "
      ]
     },
     "execution_count": 26,
     "metadata": {},
     "output_type": "execute_result"
    }
   ],
   "source": [
    "\n",
    "shu.generations_df.sample(5).T"
   ]
  },
  {
   "cell_type": "code",
   "execution_count": 17,
   "id": "da4c0502-cd0f-47c7-8d9f-a850efb1bbd8",
   "metadata": {},
   "outputs": [
    {
     "name": "stdout",
     "output_type": "stream",
     "text": [
      "The Arthurian generation institutionalized the values of the Late Medieval saeculum.\n",
      "The Elizabethan generation institutionalized the values of the Reformation saeculum.\n",
      "The Glorious generation institutionalized the values of the New World saeculum.\n",
      "The Republican generation institutionalized the values of the Revolutionary saeculum.\n",
      "The Civil War generation institutionalized the values of the Civil War saeculum.\n",
      "The G.I. generation institutionalized the values of the Great Power saeculum.\n",
      "The Millennial generation institutionalized the values of the Millennial saeculum.\n"
     ]
    }
   ],
   "source": [
    "\n",
    "columns_list = ['saeculum_name', 'turnings_archetype']\n",
    "for generation_name, row_series in shu.generations_df.sort_values('turning_year_begin')[columns_list].iterrows():\n",
    "    saeculum_name = row_series.saeculum_name\n",
    "    turnings_archetype = row_series.turnings_archetype\n",
    "    if turnings_archetype == 'Hero':\n",
    "        print(f'The {generation_name} generation institutionalized the values of the {saeculum_name} saeculum.')"
   ]
  },
  {
   "cell_type": "code",
   "execution_count": 21,
   "id": "ebc5cc60-35b8-4d84-bf17-6ef6fc451fa2",
   "metadata": {},
   "outputs": [
    {
     "name": "stdout",
     "output_type": "stream",
     "text": [
      "{'Arthurian': 'Hero', 'Humanist': 'Artist', 'Reformation': 'Prophet', 'Reprisal': 'Nomad', 'Elizabethan': 'Hero', 'Parliamentary': 'Artist', 'Puritan': 'Prophet', 'Cavalier': 'Nomad', 'Glorious': 'Hero', 'Enlightenment': 'Artist', 'Awakening': 'Prophet', 'Liberty': 'Nomad', 'Republican': 'Hero', 'Compromise': 'Artist', 'Transcendental': 'Prophet', 'Gilded': 'Nomad', 'Civil War': 'Hero', 'Progressive': 'Artist', 'Missionary': 'Prophet', 'Lost': 'Nomad', 'G.I.': 'Hero', 'Silent': 'Artist', 'Baby Boom': 'Prophet', '13th': 'Nomad', 'Millennial': 'Hero', 'Homeland': 'Artist', 'Alpha': 'Prophet'}\n"
     ]
    }
   ],
   "source": [
    "\n",
    "print(shu.generations_df.turnings_archetype.to_dict())"
   ]
  },
  {
   "cell_type": "code",
   "execution_count": 14,
   "id": "4f360b55-a1ba-4bd5-a6eb-7264ffc8778a",
   "metadata": {},
   "outputs": [
    {
     "data": {
      "text/plain": [
       "['childhood_turning_entered', 'saeculum_name', 'turnings_archetype', 'generations_archetype', 'birth_year_begin', 'birth_year_end', 'childhood_turning_description', 'turning_year_begin', 'turning_year_end', 'wikipedia_url']"
      ]
     },
     "execution_count": 14,
     "metadata": {},
     "output_type": "execute_result"
    }
   ],
   "source": [
    "\n",
    "shu.generations_df.columns.tolist()"
   ]
  },
  {
   "cell_type": "code",
   "execution_count": null,
   "id": "b45dbf7d-fa71-48e7-922d-8a105f752527",
   "metadata": {},
   "outputs": [],
   "source": []
  }
 ],
 "metadata": {
  "kernelspec": {
   "display_name": "Python 3 (ipykernel)",
   "language": "python",
   "name": "python3"
  },
  "language_info": {
   "codemirror_mode": {
    "name": "ipython",
    "version": 3
   },
   "file_extension": ".py",
   "mimetype": "text/x-python",
   "name": "python",
   "nbconvert_exporter": "python",
   "pygments_lexer": "ipython3",
   "version": "3.9.16"
  }
 },
 "nbformat": 4,
 "nbformat_minor": 5
}
